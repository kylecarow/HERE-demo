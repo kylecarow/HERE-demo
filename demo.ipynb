{
 "cells": [
  {
   "cell_type": "markdown",
   "metadata": {},
   "source": [
    "# Imports"
   ]
  },
  {
   "cell_type": "code",
   "execution_count": 1,
   "metadata": {},
   "outputs": [],
   "source": [
    "import json\n",
    "import requests\n",
    "import pandas as pd\n",
    "import plotly.express as px"
   ]
  },
  {
   "cell_type": "markdown",
   "metadata": {},
   "source": [
    "# Data"
   ]
  },
  {
   "cell_type": "markdown",
   "metadata": {},
   "source": []
  },
  {
   "cell_type": "code",
   "execution_count": 2,
   "metadata": {},
   "outputs": [],
   "source": [
    "latitude = [\n",
    "    42.25539,\n",
    "    42.25623,\n",
    "    42.25701,\n",
    "    42.25869,\n",
    "    42.26185,\n",
    "    42.26574,\n",
    "    42.2692,\n",
    "    42.26919,\n",
    "    42.27179,\n",
    "    42.2773,\n",
    "    42.28136,\n",
    "    42.28746,\n",
    "    42.29308,\n",
    "    42.29589,\n",
    "    42.29616,\n",
    "    42.29527,\n",
    "    42.28392,\n",
    "    42.27219,\n",
    "    42.27121,\n",
    "]\n",
    "\n",
    "longitude = [\n",
    "    -85.63683,\n",
    "    -85.63883,\n",
    "    -85.64067,\n",
    "    -85.64743,\n",
    "    -85.6479,\n",
    "    -85.64834,\n",
    "    -85.64828,\n",
    "    -85.6513,\n",
    "    -85.65437,\n",
    "    -85.65581,\n",
    "    -85.6568,\n",
    "    -85.66019,\n",
    "    -85.66268,\n",
    "    -85.66178,\n",
    "    -85.65403,\n",
    "    -85.64806,\n",
    "    -85.64832,\n",
    "    -85.64818,\n",
    "    -85.64851,\n",
    "]\n"
   ]
  },
  {
   "cell_type": "code",
   "execution_count": 3,
   "metadata": {},
   "outputs": [],
   "source": [
    "df = pd.DataFrame({\"latitude\": latitude, \"longitude\": longitude})\n"
   ]
  },
  {
   "cell_type": "code",
   "execution_count": 4,
   "metadata": {},
   "outputs": [
    {
     "data": {
      "application/vnd.plotly.v1+json": {
       "config": {
        "plotlyServerURL": "https://plot.ly"
       },
       "data": [
        {
         "hovertemplate": "latitude=%{lat}<br>longitude=%{lon}<extra></extra>",
         "lat": [
          42.25539,
          42.25623,
          42.25701,
          42.25869,
          42.26185,
          42.26574,
          42.2692,
          42.26919,
          42.27179,
          42.2773,
          42.28136,
          42.28746,
          42.29308,
          42.29589,
          42.29616,
          42.29527,
          42.28392,
          42.27219,
          42.27121
         ],
         "legendgroup": "",
         "lon": [
          -85.63683,
          -85.63883,
          -85.64067,
          -85.64743,
          -85.6479,
          -85.64834,
          -85.64828,
          -85.6513,
          -85.65437,
          -85.65581,
          -85.6568,
          -85.66019,
          -85.66268,
          -85.66178,
          -85.65403,
          -85.64806,
          -85.64832,
          -85.64818,
          -85.64851
         ],
         "marker": {
          "color": "black"
         },
         "mode": "markers",
         "name": "",
         "showlegend": false,
         "subplot": "mapbox",
         "type": "scattermapbox"
        }
       ],
       "layout": {
        "legend": {
         "tracegroupgap": 0
        },
        "mapbox": {
         "center": {
          "lat": 42.27468052631579,
          "lon": -85.65043736842104
         },
         "domain": {
          "x": [
           0,
           1
          ],
          "y": [
           0,
           1
          ]
         },
         "style": "open-street-map",
         "zoom": 12
        },
        "margin": {
         "b": 0,
         "l": 0,
         "r": 0,
         "t": 0
        },
        "template": {
         "data": {
          "bar": [
           {
            "error_x": {
             "color": "#2a3f5f"
            },
            "error_y": {
             "color": "#2a3f5f"
            },
            "marker": {
             "line": {
              "color": "#E5ECF6",
              "width": 0.5
             },
             "pattern": {
              "fillmode": "overlay",
              "size": 10,
              "solidity": 0.2
             }
            },
            "type": "bar"
           }
          ],
          "barpolar": [
           {
            "marker": {
             "line": {
              "color": "#E5ECF6",
              "width": 0.5
             },
             "pattern": {
              "fillmode": "overlay",
              "size": 10,
              "solidity": 0.2
             }
            },
            "type": "barpolar"
           }
          ],
          "carpet": [
           {
            "aaxis": {
             "endlinecolor": "#2a3f5f",
             "gridcolor": "white",
             "linecolor": "white",
             "minorgridcolor": "white",
             "startlinecolor": "#2a3f5f"
            },
            "baxis": {
             "endlinecolor": "#2a3f5f",
             "gridcolor": "white",
             "linecolor": "white",
             "minorgridcolor": "white",
             "startlinecolor": "#2a3f5f"
            },
            "type": "carpet"
           }
          ],
          "choropleth": [
           {
            "colorbar": {
             "outlinewidth": 0,
             "ticks": ""
            },
            "type": "choropleth"
           }
          ],
          "contour": [
           {
            "colorbar": {
             "outlinewidth": 0,
             "ticks": ""
            },
            "colorscale": [
             [
              0,
              "#0d0887"
             ],
             [
              0.1111111111111111,
              "#46039f"
             ],
             [
              0.2222222222222222,
              "#7201a8"
             ],
             [
              0.3333333333333333,
              "#9c179e"
             ],
             [
              0.4444444444444444,
              "#bd3786"
             ],
             [
              0.5555555555555556,
              "#d8576b"
             ],
             [
              0.6666666666666666,
              "#ed7953"
             ],
             [
              0.7777777777777778,
              "#fb9f3a"
             ],
             [
              0.8888888888888888,
              "#fdca26"
             ],
             [
              1,
              "#f0f921"
             ]
            ],
            "type": "contour"
           }
          ],
          "contourcarpet": [
           {
            "colorbar": {
             "outlinewidth": 0,
             "ticks": ""
            },
            "type": "contourcarpet"
           }
          ],
          "heatmap": [
           {
            "colorbar": {
             "outlinewidth": 0,
             "ticks": ""
            },
            "colorscale": [
             [
              0,
              "#0d0887"
             ],
             [
              0.1111111111111111,
              "#46039f"
             ],
             [
              0.2222222222222222,
              "#7201a8"
             ],
             [
              0.3333333333333333,
              "#9c179e"
             ],
             [
              0.4444444444444444,
              "#bd3786"
             ],
             [
              0.5555555555555556,
              "#d8576b"
             ],
             [
              0.6666666666666666,
              "#ed7953"
             ],
             [
              0.7777777777777778,
              "#fb9f3a"
             ],
             [
              0.8888888888888888,
              "#fdca26"
             ],
             [
              1,
              "#f0f921"
             ]
            ],
            "type": "heatmap"
           }
          ],
          "heatmapgl": [
           {
            "colorbar": {
             "outlinewidth": 0,
             "ticks": ""
            },
            "colorscale": [
             [
              0,
              "#0d0887"
             ],
             [
              0.1111111111111111,
              "#46039f"
             ],
             [
              0.2222222222222222,
              "#7201a8"
             ],
             [
              0.3333333333333333,
              "#9c179e"
             ],
             [
              0.4444444444444444,
              "#bd3786"
             ],
             [
              0.5555555555555556,
              "#d8576b"
             ],
             [
              0.6666666666666666,
              "#ed7953"
             ],
             [
              0.7777777777777778,
              "#fb9f3a"
             ],
             [
              0.8888888888888888,
              "#fdca26"
             ],
             [
              1,
              "#f0f921"
             ]
            ],
            "type": "heatmapgl"
           }
          ],
          "histogram": [
           {
            "marker": {
             "pattern": {
              "fillmode": "overlay",
              "size": 10,
              "solidity": 0.2
             }
            },
            "type": "histogram"
           }
          ],
          "histogram2d": [
           {
            "colorbar": {
             "outlinewidth": 0,
             "ticks": ""
            },
            "colorscale": [
             [
              0,
              "#0d0887"
             ],
             [
              0.1111111111111111,
              "#46039f"
             ],
             [
              0.2222222222222222,
              "#7201a8"
             ],
             [
              0.3333333333333333,
              "#9c179e"
             ],
             [
              0.4444444444444444,
              "#bd3786"
             ],
             [
              0.5555555555555556,
              "#d8576b"
             ],
             [
              0.6666666666666666,
              "#ed7953"
             ],
             [
              0.7777777777777778,
              "#fb9f3a"
             ],
             [
              0.8888888888888888,
              "#fdca26"
             ],
             [
              1,
              "#f0f921"
             ]
            ],
            "type": "histogram2d"
           }
          ],
          "histogram2dcontour": [
           {
            "colorbar": {
             "outlinewidth": 0,
             "ticks": ""
            },
            "colorscale": [
             [
              0,
              "#0d0887"
             ],
             [
              0.1111111111111111,
              "#46039f"
             ],
             [
              0.2222222222222222,
              "#7201a8"
             ],
             [
              0.3333333333333333,
              "#9c179e"
             ],
             [
              0.4444444444444444,
              "#bd3786"
             ],
             [
              0.5555555555555556,
              "#d8576b"
             ],
             [
              0.6666666666666666,
              "#ed7953"
             ],
             [
              0.7777777777777778,
              "#fb9f3a"
             ],
             [
              0.8888888888888888,
              "#fdca26"
             ],
             [
              1,
              "#f0f921"
             ]
            ],
            "type": "histogram2dcontour"
           }
          ],
          "mesh3d": [
           {
            "colorbar": {
             "outlinewidth": 0,
             "ticks": ""
            },
            "type": "mesh3d"
           }
          ],
          "parcoords": [
           {
            "line": {
             "colorbar": {
              "outlinewidth": 0,
              "ticks": ""
             }
            },
            "type": "parcoords"
           }
          ],
          "pie": [
           {
            "automargin": true,
            "type": "pie"
           }
          ],
          "scatter": [
           {
            "marker": {
             "colorbar": {
              "outlinewidth": 0,
              "ticks": ""
             }
            },
            "type": "scatter"
           }
          ],
          "scatter3d": [
           {
            "line": {
             "colorbar": {
              "outlinewidth": 0,
              "ticks": ""
             }
            },
            "marker": {
             "colorbar": {
              "outlinewidth": 0,
              "ticks": ""
             }
            },
            "type": "scatter3d"
           }
          ],
          "scattercarpet": [
           {
            "marker": {
             "colorbar": {
              "outlinewidth": 0,
              "ticks": ""
             }
            },
            "type": "scattercarpet"
           }
          ],
          "scattergeo": [
           {
            "marker": {
             "colorbar": {
              "outlinewidth": 0,
              "ticks": ""
             }
            },
            "type": "scattergeo"
           }
          ],
          "scattergl": [
           {
            "marker": {
             "colorbar": {
              "outlinewidth": 0,
              "ticks": ""
             }
            },
            "type": "scattergl"
           }
          ],
          "scattermapbox": [
           {
            "marker": {
             "colorbar": {
              "outlinewidth": 0,
              "ticks": ""
             }
            },
            "type": "scattermapbox"
           }
          ],
          "scatterpolar": [
           {
            "marker": {
             "colorbar": {
              "outlinewidth": 0,
              "ticks": ""
             }
            },
            "type": "scatterpolar"
           }
          ],
          "scatterpolargl": [
           {
            "marker": {
             "colorbar": {
              "outlinewidth": 0,
              "ticks": ""
             }
            },
            "type": "scatterpolargl"
           }
          ],
          "scatterternary": [
           {
            "marker": {
             "colorbar": {
              "outlinewidth": 0,
              "ticks": ""
             }
            },
            "type": "scatterternary"
           }
          ],
          "surface": [
           {
            "colorbar": {
             "outlinewidth": 0,
             "ticks": ""
            },
            "colorscale": [
             [
              0,
              "#0d0887"
             ],
             [
              0.1111111111111111,
              "#46039f"
             ],
             [
              0.2222222222222222,
              "#7201a8"
             ],
             [
              0.3333333333333333,
              "#9c179e"
             ],
             [
              0.4444444444444444,
              "#bd3786"
             ],
             [
              0.5555555555555556,
              "#d8576b"
             ],
             [
              0.6666666666666666,
              "#ed7953"
             ],
             [
              0.7777777777777778,
              "#fb9f3a"
             ],
             [
              0.8888888888888888,
              "#fdca26"
             ],
             [
              1,
              "#f0f921"
             ]
            ],
            "type": "surface"
           }
          ],
          "table": [
           {
            "cells": {
             "fill": {
              "color": "#EBF0F8"
             },
             "line": {
              "color": "white"
             }
            },
            "header": {
             "fill": {
              "color": "#C8D4E3"
             },
             "line": {
              "color": "white"
             }
            },
            "type": "table"
           }
          ]
         },
         "layout": {
          "annotationdefaults": {
           "arrowcolor": "#2a3f5f",
           "arrowhead": 0,
           "arrowwidth": 1
          },
          "autotypenumbers": "strict",
          "coloraxis": {
           "colorbar": {
            "outlinewidth": 0,
            "ticks": ""
           }
          },
          "colorscale": {
           "diverging": [
            [
             0,
             "#8e0152"
            ],
            [
             0.1,
             "#c51b7d"
            ],
            [
             0.2,
             "#de77ae"
            ],
            [
             0.3,
             "#f1b6da"
            ],
            [
             0.4,
             "#fde0ef"
            ],
            [
             0.5,
             "#f7f7f7"
            ],
            [
             0.6,
             "#e6f5d0"
            ],
            [
             0.7,
             "#b8e186"
            ],
            [
             0.8,
             "#7fbc41"
            ],
            [
             0.9,
             "#4d9221"
            ],
            [
             1,
             "#276419"
            ]
           ],
           "sequential": [
            [
             0,
             "#0d0887"
            ],
            [
             0.1111111111111111,
             "#46039f"
            ],
            [
             0.2222222222222222,
             "#7201a8"
            ],
            [
             0.3333333333333333,
             "#9c179e"
            ],
            [
             0.4444444444444444,
             "#bd3786"
            ],
            [
             0.5555555555555556,
             "#d8576b"
            ],
            [
             0.6666666666666666,
             "#ed7953"
            ],
            [
             0.7777777777777778,
             "#fb9f3a"
            ],
            [
             0.8888888888888888,
             "#fdca26"
            ],
            [
             1,
             "#f0f921"
            ]
           ],
           "sequentialminus": [
            [
             0,
             "#0d0887"
            ],
            [
             0.1111111111111111,
             "#46039f"
            ],
            [
             0.2222222222222222,
             "#7201a8"
            ],
            [
             0.3333333333333333,
             "#9c179e"
            ],
            [
             0.4444444444444444,
             "#bd3786"
            ],
            [
             0.5555555555555556,
             "#d8576b"
            ],
            [
             0.6666666666666666,
             "#ed7953"
            ],
            [
             0.7777777777777778,
             "#fb9f3a"
            ],
            [
             0.8888888888888888,
             "#fdca26"
            ],
            [
             1,
             "#f0f921"
            ]
           ]
          },
          "colorway": [
           "#636efa",
           "#EF553B",
           "#00cc96",
           "#ab63fa",
           "#FFA15A",
           "#19d3f3",
           "#FF6692",
           "#B6E880",
           "#FF97FF",
           "#FECB52"
          ],
          "font": {
           "color": "#2a3f5f"
          },
          "geo": {
           "bgcolor": "white",
           "lakecolor": "white",
           "landcolor": "#E5ECF6",
           "showlakes": true,
           "showland": true,
           "subunitcolor": "white"
          },
          "hoverlabel": {
           "align": "left"
          },
          "hovermode": "closest",
          "mapbox": {
           "style": "light"
          },
          "paper_bgcolor": "white",
          "plot_bgcolor": "#E5ECF6",
          "polar": {
           "angularaxis": {
            "gridcolor": "white",
            "linecolor": "white",
            "ticks": ""
           },
           "bgcolor": "#E5ECF6",
           "radialaxis": {
            "gridcolor": "white",
            "linecolor": "white",
            "ticks": ""
           }
          },
          "scene": {
           "xaxis": {
            "backgroundcolor": "#E5ECF6",
            "gridcolor": "white",
            "gridwidth": 2,
            "linecolor": "white",
            "showbackground": true,
            "ticks": "",
            "zerolinecolor": "white"
           },
           "yaxis": {
            "backgroundcolor": "#E5ECF6",
            "gridcolor": "white",
            "gridwidth": 2,
            "linecolor": "white",
            "showbackground": true,
            "ticks": "",
            "zerolinecolor": "white"
           },
           "zaxis": {
            "backgroundcolor": "#E5ECF6",
            "gridcolor": "white",
            "gridwidth": 2,
            "linecolor": "white",
            "showbackground": true,
            "ticks": "",
            "zerolinecolor": "white"
           }
          },
          "shapedefaults": {
           "line": {
            "color": "#2a3f5f"
           }
          },
          "ternary": {
           "aaxis": {
            "gridcolor": "white",
            "linecolor": "white",
            "ticks": ""
           },
           "baxis": {
            "gridcolor": "white",
            "linecolor": "white",
            "ticks": ""
           },
           "bgcolor": "#E5ECF6",
           "caxis": {
            "gridcolor": "white",
            "linecolor": "white",
            "ticks": ""
           }
          },
          "title": {
           "x": 0.05
          },
          "xaxis": {
           "automargin": true,
           "gridcolor": "white",
           "linecolor": "white",
           "ticks": "",
           "title": {
            "standoff": 15
           },
           "zerolinecolor": "white",
           "zerolinewidth": 2
          },
          "yaxis": {
           "automargin": true,
           "gridcolor": "white",
           "linecolor": "white",
           "ticks": "",
           "title": {
            "standoff": 15
           },
           "zerolinecolor": "white",
           "zerolinewidth": 2
          }
         }
        }
       }
      }
     },
     "metadata": {},
     "output_type": "display_data"
    }
   ],
   "source": [
    "fig = px.scatter_mapbox(\n",
    "    df,\n",
    "    lat=\"latitude\",\n",
    "    lon=\"longitude\",\n",
    "    color_discrete_sequence=[\"black\"],\n",
    "    mapbox_style=\"open-street-map\",\n",
    "    zoom=12,\n",
    ")\n",
    "\n",
    "fig.update_layout(margin={\"l\": 0, \"r\": 0, \"t\": 0, \"b\": 0})\n",
    "fig.show()\n"
   ]
  },
  {
   "cell_type": "markdown",
   "metadata": {},
   "source": [
    "Format route waypoints for API request"
   ]
  },
  {
   "cell_type": "code",
   "execution_count": 5,
   "metadata": {},
   "outputs": [],
   "source": [
    "waypoints = {\n",
    "    f\"waypoint{i}\": f\"{coords[0]},{coords[1]}\"\n",
    "    for i, coords in enumerate(zip(df[\"latitude\"], df[\"longitude\"]))\n",
    "}\n"
   ]
  },
  {
   "cell_type": "code",
   "execution_count": 6,
   "metadata": {},
   "outputs": [
    {
     "data": {
      "text/plain": [
       "{'waypoint0': '42.25539,-85.63683',\n",
       " 'waypoint1': '42.25623,-85.63883',\n",
       " 'waypoint2': '42.25701,-85.64067',\n",
       " 'waypoint3': '42.25869,-85.64743',\n",
       " 'waypoint4': '42.26185,-85.6479',\n",
       " 'waypoint5': '42.26574,-85.64834',\n",
       " 'waypoint6': '42.2692,-85.64828',\n",
       " 'waypoint7': '42.26919,-85.6513',\n",
       " 'waypoint8': '42.27179,-85.65437',\n",
       " 'waypoint9': '42.2773,-85.65581',\n",
       " 'waypoint10': '42.28136,-85.6568',\n",
       " 'waypoint11': '42.28746,-85.66019',\n",
       " 'waypoint12': '42.29308,-85.66268',\n",
       " 'waypoint13': '42.29589,-85.66178',\n",
       " 'waypoint14': '42.29616,-85.65403',\n",
       " 'waypoint15': '42.29527,-85.64806',\n",
       " 'waypoint16': '42.28392,-85.64832',\n",
       " 'waypoint17': '42.27219,-85.64818',\n",
       " 'waypoint18': '42.27121,-85.64851'}"
      ]
     },
     "execution_count": 6,
     "metadata": {},
     "output_type": "execute_result"
    }
   ],
   "source": [
    "waypoints\n"
   ]
  },
  {
   "cell_type": "markdown",
   "metadata": {},
   "source": [
    "# Request"
   ]
  },
  {
   "cell_type": "code",
   "execution_count": 7,
   "metadata": {},
   "outputs": [],
   "source": [
    "url = \"https://fleet.ls.hereapi.com/2/calculateroute.json\""
   ]
  },
  {
   "cell_type": "code",
   "execution_count": 8,
   "metadata": {},
   "outputs": [],
   "source": [
    "with open('API_KEY.json') as f:\n",
    "    data = json.load(f)\n",
    "API_KEY = data[\"API_KEY\"]\n",
    "params = {\"apiKey\": API_KEY}\n"
   ]
  },
  {
   "cell_type": "markdown",
   "metadata": {},
   "source": [
    "Add route matching mode"
   ]
  },
  {
   "cell_type": "code",
   "execution_count": 9,
   "metadata": {},
   "outputs": [],
   "source": [
    "params.update(\n",
    "    {\n",
    "        \"routeMatch\": 1,\n",
    "        \"mode\": \"fastest;car;traffic:disabled\",\n",
    "    }\n",
    ")\n"
   ]
  },
  {
   "cell_type": "markdown",
   "metadata": {},
   "source": [
    "Add GPS waypoints"
   ]
  },
  {
   "cell_type": "code",
   "execution_count": 10,
   "metadata": {},
   "outputs": [],
   "source": [
    "params.update(waypoints)\n"
   ]
  },
  {
   "cell_type": "markdown",
   "metadata": {},
   "source": [
    "Show final request parameters (with API key censored)"
   ]
  },
  {
   "cell_type": "code",
   "execution_count": 11,
   "metadata": {},
   "outputs": [
    {
     "data": {
      "text/plain": [
       "{'apiKey': '**********',\n",
       " 'routeMatch': 1,\n",
       " 'mode': 'fastest;car;traffic:disabled',\n",
       " 'waypoint0': '42.25539,-85.63683',\n",
       " 'waypoint1': '42.25623,-85.63883',\n",
       " 'waypoint2': '42.25701,-85.64067',\n",
       " 'waypoint3': '42.25869,-85.64743',\n",
       " 'waypoint4': '42.26185,-85.6479',\n",
       " 'waypoint5': '42.26574,-85.64834',\n",
       " 'waypoint6': '42.2692,-85.64828',\n",
       " 'waypoint7': '42.26919,-85.6513',\n",
       " 'waypoint8': '42.27179,-85.65437',\n",
       " 'waypoint9': '42.2773,-85.65581',\n",
       " 'waypoint10': '42.28136,-85.6568',\n",
       " 'waypoint11': '42.28746,-85.66019',\n",
       " 'waypoint12': '42.29308,-85.66268',\n",
       " 'waypoint13': '42.29589,-85.66178',\n",
       " 'waypoint14': '42.29616,-85.65403',\n",
       " 'waypoint15': '42.29527,-85.64806',\n",
       " 'waypoint16': '42.28392,-85.64832',\n",
       " 'waypoint17': '42.27219,-85.64818',\n",
       " 'waypoint18': '42.27121,-85.64851'}"
      ]
     },
     "execution_count": 11,
     "metadata": {},
     "output_type": "execute_result"
    }
   ],
   "source": [
    "{k: (v if k != \"apiKey\" else \"**********\") for k, v in params.items()}"
   ]
  },
  {
   "cell_type": "markdown",
   "metadata": {},
   "source": [
    "Request and response data"
   ]
  },
  {
   "cell_type": "code",
   "execution_count": 12,
   "metadata": {},
   "outputs": [
    {
     "data": {
      "text/plain": [
       "{'response': {'route': [{'mode': {'type': 'matched',\n",
       "     'transportModes': ['car'],\n",
       "     'trafficMode': 'disabled'},\n",
       "    'boatFerry': False,\n",
       "    'railFerry': False,\n",
       "    'waypoint': [{'linkId': '+115644923',\n",
       "      'mappedPosition': {'latitude': 42.25528, 'longitude': -85.63712},\n",
       "      'originalPosition': {'latitude': 42.25539, 'longitude': -85.63683},\n",
       "      'spot': 0.70249,\n",
       "      'confidenceValue': 0.15,\n",
       "      'elevation': 0.0,\n",
       "      'headingDegreeNorthClockwise': 10000.0,\n",
       "      'headingMatched': -28.0,\n",
       "      'matchDistance': 34.13,\n",
       "      'minError': 27.0,\n",
       "      'routeLinkSeqNrMatched': 0,\n",
       "      'speedMps': 0.0,\n",
       "      'timestamp': 0},\n",
       "     {'linkId': '+1049349902',\n",
       "      'mappedPosition': {'latitude': 42.25621, 'longitude': -85.63868},\n",
       "      'originalPosition': {'latitude': 42.25623, 'longitude': -85.63883},\n",
       "      'spot': 0.13988,\n",
       "      'confidenceValue': 0.29,\n",
       "      'elevation': 0.0,\n",
       "      'headingDegreeNorthClockwise': 10000.0,\n",
       "      'headingMatched': 9.0,\n",
       "      'matchDistance': 17.22,\n",
       "      'minError': 13.0,\n",
       "      'routeLinkSeqNrMatched': 1,\n",
       "      'speedMps': 0.0,\n",
       "      'timestamp': 0},\n",
       "     {'linkId': '-956822734',\n",
       "      'mappedPosition': {'latitude': 42.25686, 'longitude': -85.64054},\n",
       "      'originalPosition': {'latitude': 42.25701, 'longitude': -85.64067},\n",
       "      'spot': 0.68039,\n",
       "      'confidenceValue': 0.22,\n",
       "      'elevation': 0.0,\n",
       "      'headingDegreeNorthClockwise': 10000.0,\n",
       "      'headingMatched': -124.0,\n",
       "      'matchDistance': 22.25,\n",
       "      'minError': 20.0,\n",
       "      'routeLinkSeqNrMatched': 5,\n",
       "      'speedMps': 0.0,\n",
       "      'timestamp': 0},\n",
       "     {'linkId': '+1049350080',\n",
       "      'mappedPosition': {'latitude': 42.25859, 'longitude': -85.64755},\n",
       "      'originalPosition': {'latitude': 42.25869, 'longitude': -85.64743},\n",
       "      'spot': 0.39963,\n",
       "      'confidenceValue': 0.29,\n",
       "      'elevation': 0.0,\n",
       "      'headingDegreeNorthClockwise': 10000.0,\n",
       "      'headingMatched': -49.0,\n",
       "      'matchDistance': 17.03,\n",
       "      'minError': 15.0,\n",
       "      'routeLinkSeqNrMatched': 10,\n",
       "      'speedMps': 0.0,\n",
       "      'timestamp': 0},\n",
       "     {'linkId': '+962249140',\n",
       "      'mappedPosition': {'latitude': 42.26185, 'longitude': -85.64812},\n",
       "      'originalPosition': {'latitude': 42.26185, 'longitude': -85.6479},\n",
       "      'spot': 0.46281,\n",
       "      'confidenceValue': 0.2,\n",
       "      'elevation': 0.0,\n",
       "      'headingDegreeNorthClockwise': 10000.0,\n",
       "      'headingMatched': 0.0,\n",
       "      'matchDistance': 24.49,\n",
       "      'minError': 18.0,\n",
       "      'routeLinkSeqNrMatched': 12,\n",
       "      'speedMps': 0.0,\n",
       "      'timestamp': 0},\n",
       "     {'linkId': '+962249141',\n",
       "      'mappedPosition': {'latitude': 42.26574, 'longitude': -85.64824},\n",
       "      'originalPosition': {'latitude': 42.26574, 'longitude': -85.64834},\n",
       "      'spot': 0.58365,\n",
       "      'confidenceValue': 0.45,\n",
       "      'elevation': 0.0,\n",
       "      'headingDegreeNorthClockwise': 10000.0,\n",
       "      'headingMatched': -3.0,\n",
       "      'matchDistance': 11.19,\n",
       "      'minError': 5.0,\n",
       "      'routeLinkSeqNrMatched': 13,\n",
       "      'speedMps': 0.0,\n",
       "      'timestamp': 0},\n",
       "     {'linkId': '+1228366678',\n",
       "      'mappedPosition': {'latitude': 42.2692, 'longitude': -85.64836},\n",
       "      'originalPosition': {'latitude': 42.2692, 'longitude': -85.64828},\n",
       "      'spot': 0.33402,\n",
       "      'confidenceValue': 0.59,\n",
       "      'elevation': 0.0,\n",
       "      'headingDegreeNorthClockwise': 10000.0,\n",
       "      'headingMatched': 1.0,\n",
       "      'matchDistance': 8.53,\n",
       "      'minError': 6.0,\n",
       "      'routeLinkSeqNrMatched': 17,\n",
       "      'speedMps': 0.0,\n",
       "      'timestamp': 0},\n",
       "     {'linkId': '-1127196267',\n",
       "      'mappedPosition': {'latitude': 42.26917, 'longitude': -85.65129},\n",
       "      'originalPosition': {'latitude': 42.26919, 'longitude': -85.6513},\n",
       "      'spot': 0.62842,\n",
       "      'confidenceValue': 1.0,\n",
       "      'elevation': 0.0,\n",
       "      'headingDegreeNorthClockwise': 10000.0,\n",
       "      'headingMatched': -104.0,\n",
       "      'matchDistance': 2.92,\n",
       "      'minError': 3.0,\n",
       "      'routeLinkSeqNrMatched': 21,\n",
       "      'speedMps': 0.0,\n",
       "      'timestamp': 0},\n",
       "     {'linkId': '+1181933898',\n",
       "      'mappedPosition': {'latitude': 42.27178, 'longitude': -85.65442},\n",
       "      'originalPosition': {'latitude': 42.27179, 'longitude': -85.65437},\n",
       "      'spot': 0.5567,\n",
       "      'confidenceValue': 0.83,\n",
       "      'elevation': 0.0,\n",
       "      'headingDegreeNorthClockwise': 10000.0,\n",
       "      'headingMatched': -12.0,\n",
       "      'matchDistance': 6.0,\n",
       "      'minError': 1.0,\n",
       "      'routeLinkSeqNrMatched': 25,\n",
       "      'speedMps': 0.0,\n",
       "      'timestamp': 0},\n",
       "     {'linkId': '+826574598',\n",
       "      'mappedPosition': {'latitude': 42.27729, 'longitude': -85.65585},\n",
       "      'originalPosition': {'latitude': 42.2773, 'longitude': -85.65581},\n",
       "      'spot': 0.33384,\n",
       "      'confidenceValue': 1.0,\n",
       "      'elevation': 0.0,\n",
       "      'headingDegreeNorthClockwise': 10000.0,\n",
       "      'headingMatched': -11.0,\n",
       "      'matchDistance': 4.88,\n",
       "      'minError': 4.0,\n",
       "      'routeLinkSeqNrMatched': 30,\n",
       "      'speedMps': 0.0,\n",
       "      'timestamp': 0},\n",
       "     {'linkId': '+127297597',\n",
       "      'mappedPosition': {'latitude': 42.28134, 'longitude': -85.65693},\n",
       "      'originalPosition': {'latitude': 42.28136, 'longitude': -85.6568},\n",
       "      'spot': 0.45639,\n",
       "      'confidenceValue': 0.34,\n",
       "      'elevation': 0.0,\n",
       "      'headingDegreeNorthClockwise': 10000.0,\n",
       "      'headingMatched': -11.0,\n",
       "      'matchDistance': 14.65,\n",
       "      'minError': 11.0,\n",
       "      'routeLinkSeqNrMatched': 31,\n",
       "      'speedMps': 0.0,\n",
       "      'timestamp': 0},\n",
       "     {'linkId': '+1158451492',\n",
       "      'mappedPosition': {'latitude': 42.28744, 'longitude': -85.66025},\n",
       "      'originalPosition': {'latitude': 42.28746, 'longitude': -85.66019},\n",
       "      'spot': 0.22789,\n",
       "      'confidenceValue': 0.75,\n",
       "      'elevation': 0.0,\n",
       "      'headingDegreeNorthClockwise': 10000.0,\n",
       "      'headingMatched': -30.0,\n",
       "      'matchDistance': 6.71,\n",
       "      'minError': 5.0,\n",
       "      'routeLinkSeqNrMatched': 33,\n",
       "      'speedMps': 0.0,\n",
       "      'timestamp': 0},\n",
       "     {'linkId': '+19996739',\n",
       "      'mappedPosition': {'latitude': 42.29313, 'longitude': -85.66304},\n",
       "      'originalPosition': {'latitude': 42.29308, 'longitude': -85.66268},\n",
       "      'spot': 0.36247,\n",
       "      'confidenceValue': 0.12,\n",
       "      'elevation': 0.0,\n",
       "      'headingDegreeNorthClockwise': 10000.0,\n",
       "      'headingMatched': 10.0,\n",
       "      'matchDistance': 40.19,\n",
       "      'minError': 30.0,\n",
       "      'routeLinkSeqNrMatched': 35,\n",
       "      'speedMps': 0.0,\n",
       "      'timestamp': 0},\n",
       "     {'linkId': '+19996739',\n",
       "      'mappedPosition': {'latitude': 42.29589, 'longitude': -85.66164},\n",
       "      'originalPosition': {'latitude': 42.29589, 'longitude': -85.66178},\n",
       "      'spot': 0.98008,\n",
       "      'confidenceValue': 0.32,\n",
       "      'elevation': 0.0,\n",
       "      'headingDegreeNorthClockwise': 10000.0,\n",
       "      'headingMatched': -1.0,\n",
       "      'matchDistance': 15.86,\n",
       "      'minError': 11.0,\n",
       "      'routeLinkSeqNrMatched': 35,\n",
       "      'speedMps': 0.0,\n",
       "      'timestamp': 0},\n",
       "     {'linkId': '+1175198479',\n",
       "      'mappedPosition': {'latitude': 42.29617, 'longitude': -85.65394},\n",
       "      'originalPosition': {'latitude': 42.29616, 'longitude': -85.65403},\n",
       "      'spot': 0.0,\n",
       "      'confidenceValue': 0.5,\n",
       "      'elevation': 0.0,\n",
       "      'headingDegreeNorthClockwise': 10000.0,\n",
       "      'headingMatched': 89.0,\n",
       "      'matchDistance': 10.08,\n",
       "      'minError': 1.0,\n",
       "      'routeLinkSeqNrMatched': 43,\n",
       "      'speedMps': 0.0,\n",
       "      'timestamp': 0},\n",
       "     {'linkId': '-1247387605',\n",
       "      'mappedPosition': {'latitude': 42.29527, 'longitude': -85.64818},\n",
       "      'originalPosition': {'latitude': 42.29527, 'longitude': -85.64806},\n",
       "      'spot': 0.52632,\n",
       "      'confidenceValue': 0.37,\n",
       "      'elevation': 0.0,\n",
       "      'headingDegreeNorthClockwise': 10000.0,\n",
       "      'headingMatched': 180.0,\n",
       "      'matchDistance': 13.36,\n",
       "      'minError': 10.0,\n",
       "      'routeLinkSeqNrMatched': 59,\n",
       "      'speedMps': 0.0,\n",
       "      'timestamp': 0},\n",
       "     {'linkId': '-1269977567',\n",
       "      'mappedPosition': {'latitude': 42.28392, 'longitude': -85.64824},\n",
       "      'originalPosition': {'latitude': 42.28392, 'longitude': -85.64832},\n",
       "      'spot': 0.55714,\n",
       "      'confidenceValue': 0.56,\n",
       "      'elevation': 0.0,\n",
       "      'headingDegreeNorthClockwise': 10000.0,\n",
       "      'headingMatched': 180.0,\n",
       "      'matchDistance': 8.9,\n",
       "      'minError': 7.0,\n",
       "      'routeLinkSeqNrMatched': 72,\n",
       "      'speedMps': 0.0,\n",
       "      'timestamp': 0},\n",
       "     {'linkId': '-1247203687',\n",
       "      'mappedPosition': {'latitude': 42.27219, 'longitude': -85.64833},\n",
       "      'originalPosition': {'latitude': 42.27219, 'longitude': -85.64818},\n",
       "      'spot': 0.13735,\n",
       "      'confidenceValue': 0.3,\n",
       "      'elevation': 0.0,\n",
       "      'headingDegreeNorthClockwise': 10000.0,\n",
       "      'headingMatched': -179.0,\n",
       "      'matchDistance': 16.54,\n",
       "      'minError': 7.0,\n",
       "      'routeLinkSeqNrMatched': 89,\n",
       "      'speedMps': 0.0,\n",
       "      'timestamp': 0},\n",
       "     {'linkId': '-1117720053',\n",
       "      'mappedPosition': {'latitude': 42.27121, 'longitude': -85.64834},\n",
       "      'originalPosition': {'latitude': 42.27121, 'longitude': -85.64851},\n",
       "      'spot': 0.36007,\n",
       "      'confidenceValue': 0.26,\n",
       "      'elevation': 0.0,\n",
       "      'headingDegreeNorthClockwise': 10000.0,\n",
       "      'headingMatched': -179.0,\n",
       "      'matchDistance': 19.32,\n",
       "      'minError': 14.0,\n",
       "      'routeLinkSeqNrMatched': 91,\n",
       "      'speedMps': 0.0,\n",
       "      'timestamp': 0}],\n",
       "    'leg': [{'length': 9762,\n",
       "      'travelTime': 649,\n",
       "      'link': [{'linkId': '115644923',\n",
       "        'length': 167.22,\n",
       "        'remainDistance': 9762,\n",
       "        'remainTime': 649,\n",
       "        'shape': [42.25528,\n",
       "         -85.63712,\n",
       "         42.25547,\n",
       "         -85.63725,\n",
       "         42.25565,\n",
       "         -85.63747,\n",
       "         42.25581,\n",
       "         -85.63772,\n",
       "         42.25595,\n",
       "         -85.63799,\n",
       "         42.25605,\n",
       "         -85.63828,\n",
       "         42.25615,\n",
       "         -85.63869],\n",
       "        'functionalClass': 5,\n",
       "        'confidence': 0.9},\n",
       "       {'linkId': '1049349902',\n",
       "        'length': 49.33,\n",
       "        'remainDistance': 9595,\n",
       "        'remainTime': 649,\n",
       "        'shape': [42.25615,\n",
       "         -85.63869,\n",
       "         42.25633,\n",
       "         -85.63865,\n",
       "         42.25652,\n",
       "         -85.63866,\n",
       "         42.25659,\n",
       "         -85.63868],\n",
       "        'functionalClass': 5,\n",
       "        'confidence': 1.0},\n",
       "       {'linkId': '1049349903',\n",
       "        'length': 44.05,\n",
       "        'remainDistance': 9546,\n",
       "        'remainTime': 620,\n",
       "        'shape': [42.25659,\n",
       "         -85.63868,\n",
       "         42.25668,\n",
       "         -85.63871,\n",
       "         42.2568,\n",
       "         -85.6388,\n",
       "         42.25693,\n",
       "         -85.63894],\n",
       "        'functionalClass': 5,\n",
       "        'confidence': 0.96},\n",
       "       {'linkId': '1049349899',\n",
       "        'length': 55.74,\n",
       "        'remainDistance': 9502,\n",
       "        'remainTime': 613,\n",
       "        'shape': [42.25693,\n",
       "         -85.63894,\n",
       "         42.25702,\n",
       "         -85.63909,\n",
       "         42.25711,\n",
       "         -85.63933,\n",
       "         42.25714,\n",
       "         -85.63954],\n",
       "        'functionalClass': 5,\n",
       "        'confidence': 0.9},\n",
       "       {'linkId': '-1049349900',\n",
       "        'length': 50.14,\n",
       "        'remainDistance': 9446,\n",
       "        'remainTime': 606,\n",
       "        'shape': [42.25714,\n",
       "         -85.63954,\n",
       "         42.25715,\n",
       "         -85.6396,\n",
       "         42.25715,\n",
       "         -85.63975,\n",
       "         42.25713,\n",
       "         -85.6399,\n",
       "         42.25707,\n",
       "         -85.64013],\n",
       "        'functionalClass': 5,\n",
       "        'confidence': 0.88},\n",
       "       {'linkId': '-956822734',\n",
       "        'length': 127.23,\n",
       "        'remainDistance': 9396,\n",
       "        'remainTime': 597,\n",
       "        'shape': [42.25707,\n",
       "         -85.64013,\n",
       "         42.25703,\n",
       "         -85.64022,\n",
       "         42.2569,\n",
       "         -85.64046,\n",
       "         42.25674,\n",
       "         -85.64078,\n",
       "         42.25664,\n",
       "         -85.64102,\n",
       "         42.25657,\n",
       "         -85.64124,\n",
       "         42.25652,\n",
       "         -85.64147],\n",
       "        'functionalClass': 5,\n",
       "        'confidence': 0.88},\n",
       "       {'linkId': '956822731',\n",
       "        'length': 261.17,\n",
       "        'remainDistance': 9268,\n",
       "        'remainTime': 582,\n",
       "        'shape': [42.25652,\n",
       "         -85.64147,\n",
       "         42.25647,\n",
       "         -85.64182,\n",
       "         42.25646,\n",
       "         -85.64212,\n",
       "         42.25648,\n",
       "         -85.64241,\n",
       "         42.25653,\n",
       "         -85.64271,\n",
       "         42.2566,\n",
       "         -85.64298,\n",
       "         42.2567,\n",
       "         -85.64325,\n",
       "         42.25683,\n",
       "         -85.64349,\n",
       "         42.25697,\n",
       "         -85.64371,\n",
       "         42.25712,\n",
       "         -85.6439,\n",
       "         42.2574,\n",
       "         -85.64416],\n",
       "        'functionalClass': 5,\n",
       "        'confidence': 0.89},\n",
       "       {'linkId': '956822732',\n",
       "        'length': 115.98,\n",
       "        'remainDistance': 9007,\n",
       "        'remainTime': 568,\n",
       "        'shape': [42.2574,\n",
       "         -85.64416,\n",
       "         42.25763,\n",
       "         -85.64437,\n",
       "         42.25783,\n",
       "         -85.64466,\n",
       "         42.25793,\n",
       "         -85.64487,\n",
       "         42.25804,\n",
       "         -85.64517,\n",
       "         42.25805,\n",
       "         -85.64522],\n",
       "        'functionalClass': 5,\n",
       "        'confidence': 0.9},\n",
       "       {'linkId': '755041868',\n",
       "        'length': 21.36,\n",
       "        'remainDistance': 8891,\n",
       "        'remainTime': 525,\n",
       "        'shape': [42.25805, -85.64522, 42.2581, -85.64547],\n",
       "        'functionalClass': 5,\n",
       "        'confidence': 0.91},\n",
       "       {'linkId': '956822722',\n",
       "        'length': 137.82,\n",
       "        'remainDistance': 8870,\n",
       "        'remainTime': 506,\n",
       "        'shape': [42.2581,\n",
       "         -85.64547,\n",
       "         42.25813,\n",
       "         -85.6458,\n",
       "         42.25814,\n",
       "         -85.64612,\n",
       "         42.25816,\n",
       "         -85.64643,\n",
       "         42.25821,\n",
       "         -85.64671,\n",
       "         42.25834,\n",
       "         -85.64709],\n",
       "        'functionalClass': 5,\n",
       "        'confidence': 0.92},\n",
       "       {'linkId': '1049350080',\n",
       "        'length': 117.8,\n",
       "        'remainDistance': 8732,\n",
       "        'remainTime': 503,\n",
       "        'shape': [42.25834,\n",
       "         -85.64709,\n",
       "         42.25845,\n",
       "         -85.64733,\n",
       "         42.2586,\n",
       "         -85.64756,\n",
       "         42.25878,\n",
       "         -85.64775,\n",
       "         42.25897,\n",
       "         -85.64791,\n",
       "         42.25905,\n",
       "         -85.64797,\n",
       "         42.25912,\n",
       "         -85.64802],\n",
       "        'functionalClass': 5,\n",
       "        'confidence': 0.92},\n",
       "       {'linkId': '956822727',\n",
       "        'length': 90.13,\n",
       "        'remainDistance': 8614,\n",
       "        'remainTime': 472,\n",
       "        'shape': [42.25912,\n",
       "         -85.64802,\n",
       "         42.25931,\n",
       "         -85.6481,\n",
       "         42.25945,\n",
       "         -85.64813,\n",
       "         42.25967,\n",
       "         -85.64814,\n",
       "         42.25992,\n",
       "         -85.64812],\n",
       "        'functionalClass': 5,\n",
       "        'confidence': 1.0},\n",
       "       {'linkId': '962249140',\n",
       "        'length': 463.21,\n",
       "        'remainDistance': 8524,\n",
       "        'remainTime': 461,\n",
       "        'shape': [42.25992,\n",
       "         -85.64812,\n",
       "         42.26093,\n",
       "         -85.64812,\n",
       "         42.26173,\n",
       "         -85.64812,\n",
       "         42.26292,\n",
       "         -85.64812,\n",
       "         42.26409,\n",
       "         -85.64815],\n",
       "        'functionalClass': 4,\n",
       "        'confidence': 1.0},\n",
       "       {'linkId': '962249141',\n",
       "        'length': 315.13,\n",
       "        'remainDistance': 8061,\n",
       "        'remainTime': 433,\n",
       "        'shape': [42.26409,\n",
       "         -85.64815,\n",
       "         42.26483,\n",
       "         -85.64817,\n",
       "         42.26575,\n",
       "         -85.64824,\n",
       "         42.26637,\n",
       "         -85.64827,\n",
       "         42.26692,\n",
       "         -85.64837],\n",
       "        'functionalClass': 4,\n",
       "        'confidence': 1.0},\n",
       "       {'linkId': '115639139',\n",
       "        'length': 144.4,\n",
       "        'remainDistance': 7746,\n",
       "        'remainTime': 407,\n",
       "        'shape': [42.26692, -85.64837, 42.26822, -85.64836],\n",
       "        'functionalClass': 4,\n",
       "        'confidence': 1.0},\n",
       "       {'linkId': '108100817',\n",
       "        'length': 51.1,\n",
       "        'remainDistance': 7601,\n",
       "        'remainTime': 399,\n",
       "        'shape': [42.26822, -85.64836, 42.26868, -85.64836],\n",
       "        'functionalClass': 4,\n",
       "        'confidence': 1.0},\n",
       "       {'linkId': '1228366677',\n",
       "        'length': 28.88,\n",
       "        'remainDistance': 7550,\n",
       "        'remainTime': 391,\n",
       "        'shape': [42.26868, -85.64836, 42.26894, -85.64836],\n",
       "        'functionalClass': 4,\n",
       "        'confidence': 1.0},\n",
       "       {'linkId': '1228366678',\n",
       "        'length': 86.64,\n",
       "        'remainDistance': 7521,\n",
       "        'remainTime': 388,\n",
       "        'shape': [42.26894, -85.64836, 42.26972, -85.64835],\n",
       "        'functionalClass': 4,\n",
       "        'confidence': 1.0},\n",
       "       {'linkId': '-115639135',\n",
       "        'length': 211.02,\n",
       "        'remainDistance': 7435,\n",
       "        'remainTime': 384,\n",
       "        'shape': [42.26972, -85.64835, 42.2692, -85.65081],\n",
       "        'functionalClass': 4,\n",
       "        'confidence': 1.0},\n",
       "       {'linkId': '108254676',\n",
       "        'length': 18.29,\n",
       "        'remainDistance': 7224,\n",
       "        'remainTime': 381,\n",
       "        'shape': [42.2692, -85.65081, 42.26922, -85.65103],\n",
       "        'functionalClass': 4,\n",
       "        'confidence': 1.0},\n",
       "       {'linkId': '-108254675',\n",
       "        'length': 15.5,\n",
       "        'remainDistance': 7206,\n",
       "        'remainTime': 368,\n",
       "        'shape': [42.26922, -85.65103, 42.26918, -85.65121],\n",
       "        'functionalClass': 4,\n",
       "        'confidence': 1.0},\n",
       "       {'linkId': '-1127196267',\n",
       "        'length': 18.69,\n",
       "        'remainDistance': 7190,\n",
       "        'remainTime': 367,\n",
       "        'shape': [42.26918, -85.65121, 42.26914, -85.65143],\n",
       "        'functionalClass': 4,\n",
       "        'confidence': 1.0},\n",
       "       {'linkId': '1127196278',\n",
       "        'length': 150.1,\n",
       "        'remainDistance': 7171,\n",
       "        'remainTime': 366,\n",
       "        'shape': [42.26914,\n",
       "         -85.65143,\n",
       "         42.26912,\n",
       "         -85.65194,\n",
       "         42.26913,\n",
       "         -85.65221,\n",
       "         42.2692,\n",
       "         -85.65247,\n",
       "         42.26925,\n",
       "         -85.6526,\n",
       "         42.26931,\n",
       "         -85.65272,\n",
       "         42.26938,\n",
       "         -85.65282,\n",
       "         42.26946,\n",
       "         -85.65289,\n",
       "         42.2696,\n",
       "         -85.65297],\n",
       "        'functionalClass': 4,\n",
       "        'confidence': 1.0},\n",
       "       {'linkId': '1228062878',\n",
       "        'length': 33.07,\n",
       "        'remainDistance': 7021,\n",
       "        'remainTime': 365,\n",
       "        'shape': [42.2696, -85.65297, 42.26971, -85.653, 42.26988, -85.6531],\n",
       "        'functionalClass': 4,\n",
       "        'confidence': 1.0},\n",
       "       {'linkId': '1228062879',\n",
       "        'length': 216.28,\n",
       "        'remainDistance': 6988,\n",
       "        'remainTime': 356,\n",
       "        'shape': [42.26988,\n",
       "         -85.6531,\n",
       "         42.27018,\n",
       "         -85.65336,\n",
       "         42.27079,\n",
       "         -85.65392,\n",
       "         42.27094,\n",
       "         -85.65405,\n",
       "         42.27115,\n",
       "         -85.65417,\n",
       "         42.27157,\n",
       "         -85.65437],\n",
       "        'functionalClass': 4,\n",
       "        'confidence': 1.0},\n",
       "       {'linkId': '1181933898',\n",
       "        'length': 43.01,\n",
       "        'remainDistance': 6772,\n",
       "        'remainTime': 354,\n",
       "        'shape': [42.27157,\n",
       "         -85.65437,\n",
       "         42.27177,\n",
       "         -85.65442,\n",
       "         42.27195,\n",
       "         -85.65447],\n",
       "        'functionalClass': 2,\n",
       "        'confidence': 1.0},\n",
       "       {'linkId': '1181933899',\n",
       "        'length': 164.24,\n",
       "        'remainDistance': 6729,\n",
       "        'remainTime': 340,\n",
       "        'shape': [42.27195, -85.65447, 42.2734, -85.65486],\n",
       "        'functionalClass': 2,\n",
       "        'confidence': 1.0},\n",
       "       {'linkId': '1158443136',\n",
       "        'length': 210.36,\n",
       "        'remainDistance': 6565,\n",
       "        'remainTime': 339,\n",
       "        'shape': [42.2734, -85.65486, 42.2736, -85.65491, 42.27526, -85.65534],\n",
       "        'functionalClass': 2,\n",
       "        'confidence': 1.0},\n",
       "       {'linkId': '1158443137',\n",
       "        'length': 135.72,\n",
       "        'remainDistance': 6354,\n",
       "        'remainTime': 333,\n",
       "        'shape': [42.27526, -85.65534, 42.27646, -85.65565],\n",
       "        'functionalClass': 2,\n",
       "        'confidence': 1.0},\n",
       "       {'linkId': '826574597',\n",
       "        'length': 52.99,\n",
       "        'remainDistance': 6219,\n",
       "        'remainTime': 326,\n",
       "        'shape': [42.27646, -85.65565, 42.27693, -85.65576],\n",
       "        'functionalClass': 2,\n",
       "        'confidence': 1.0},\n",
       "       {'linkId': '826574598',\n",
       "        'length': 123.26,\n",
       "        'remainDistance': 6166,\n",
       "        'remainTime': 321,\n",
       "        'shape': [42.27693,\n",
       "         -85.65576,\n",
       "         42.27767,\n",
       "         -85.65595,\n",
       "         42.27802,\n",
       "         -85.65604],\n",
       "        'functionalClass': 2,\n",
       "        'confidence': 1.0},\n",
       "       {'linkId': '127297597',\n",
       "        'length': 824.12,\n",
       "        'remainDistance': 6042,\n",
       "        'remainTime': 318,\n",
       "        'shape': [42.27802,\n",
       "         -85.65604,\n",
       "         42.27899,\n",
       "         -85.65629,\n",
       "         42.27994,\n",
       "         -85.65654,\n",
       "         42.28134,\n",
       "         -85.65693,\n",
       "         42.28222,\n",
       "         -85.65717,\n",
       "         42.28289,\n",
       "         -85.65741,\n",
       "         42.28356,\n",
       "         -85.65769,\n",
       "         42.28413,\n",
       "         -85.65797,\n",
       "         42.28466,\n",
       "         -85.65826,\n",
       "         42.28517,\n",
       "         -85.65858],\n",
       "        'functionalClass': 2,\n",
       "        'confidence': 1.0},\n",
       "       {'linkId': '127297598',\n",
       "        'length': 186.27,\n",
       "        'remainDistance': 5218,\n",
       "        'remainTime': 301,\n",
       "        'shape': [42.28517,\n",
       "         -85.65858,\n",
       "         42.28569,\n",
       "         -85.65892,\n",
       "         42.28623,\n",
       "         -85.65933,\n",
       "         42.28665,\n",
       "         -85.65964],\n",
       "        'functionalClass': 2,\n",
       "        'confidence': 1.0},\n",
       "       {'linkId': '1158451492',\n",
       "        'length': 441.42,\n",
       "        'remainDistance': 5032,\n",
       "        'remainTime': 285,\n",
       "        'shape': [42.28665,\n",
       "         -85.65964,\n",
       "         42.2872,\n",
       "         -85.66006,\n",
       "         42.28841,\n",
       "         -85.66101,\n",
       "         42.28907,\n",
       "         -85.66153,\n",
       "         42.28972,\n",
       "         -85.66201,\n",
       "         42.29011,\n",
       "         -85.66227],\n",
       "        'functionalClass': 2,\n",
       "        'confidence': 1.0},\n",
       "       {'linkId': '1158451493',\n",
       "        'length': 149.53,\n",
       "        'remainDistance': 4590,\n",
       "        'remainTime': 275,\n",
       "        'shape': [42.29011,\n",
       "         -85.66227,\n",
       "         42.29019,\n",
       "         -85.66232,\n",
       "         42.29072,\n",
       "         -85.66263,\n",
       "         42.29136,\n",
       "         -85.66294],\n",
       "        'functionalClass': 2,\n",
       "        'confidence': 0.95},\n",
       "       {'linkId': '19996739',\n",
       "        'length': 546.63,\n",
       "        'remainDistance': 4441,\n",
       "        'remainTime': 262,\n",
       "        'shape': [42.29136,\n",
       "         -85.66294,\n",
       "         42.29226,\n",
       "         -85.66312,\n",
       "         42.29261,\n",
       "         -85.66312,\n",
       "         42.29292,\n",
       "         -85.66309,\n",
       "         42.29324,\n",
       "         -85.66301,\n",
       "         42.29367,\n",
       "         -85.66282,\n",
       "         42.29388,\n",
       "         -85.6627,\n",
       "         42.29407,\n",
       "         -85.66256,\n",
       "         42.29424,\n",
       "         -85.66241,\n",
       "         42.29441,\n",
       "         -85.66225,\n",
       "         42.29458,\n",
       "         -85.66207,\n",
       "         42.29489,\n",
       "         -85.66178,\n",
       "         42.2951,\n",
       "         -85.66165,\n",
       "         42.29521,\n",
       "         -85.66162,\n",
       "         42.29599,\n",
       "         -85.66164],\n",
       "        'functionalClass': 3,\n",
       "        'confidence': 0.95},\n",
       "       {'linkId': '932373190',\n",
       "        'length': 147.77,\n",
       "        'remainDistance': 3894,\n",
       "        'remainTime': 225,\n",
       "        'shape': [42.29599, -85.66164, 42.29605, -85.65985],\n",
       "        'functionalClass': 3,\n",
       "        'confidence': 0.95},\n",
       "       {'linkId': '932373191',\n",
       "        'length': 93.25,\n",
       "        'remainDistance': 3747,\n",
       "        'remainTime': 224,\n",
       "        'shape': [42.29605, -85.65985, 42.29608, -85.65872],\n",
       "        'functionalClass': 3,\n",
       "        'confidence': 0.97},\n",
       "       {'linkId': '135471108',\n",
       "        'length': 70.13,\n",
       "        'remainDistance': 3653,\n",
       "        'remainTime': 217,\n",
       "        'shape': [42.29608, -85.65872, 42.2961, -85.65787],\n",
       "        'functionalClass': 3,\n",
       "        'confidence': 0.98},\n",
       "       {'linkId': '985794623',\n",
       "        'length': 65.16,\n",
       "        'remainDistance': 3583,\n",
       "        'remainTime': 212,\n",
       "        'shape': [42.2961, -85.65787, 42.29611, -85.65708],\n",
       "        'functionalClass': 3,\n",
       "        'confidence': 0.99},\n",
       "       {'linkId': '985794625',\n",
       "        'length': 100.64,\n",
       "        'remainDistance': 3518,\n",
       "        'remainTime': 208,\n",
       "        'shape': [42.29611, -85.65708, 42.29613, -85.65586],\n",
       "        'functionalClass': 3,\n",
       "        'confidence': 1.0},\n",
       "       {'linkId': '985794628',\n",
       "        'length': 59.39,\n",
       "        'remainDistance': 3417,\n",
       "        'remainTime': 205,\n",
       "        'shape': [42.29613, -85.65586, 42.29614, -85.65514],\n",
       "        'functionalClass': 3,\n",
       "        'confidence': 1.0},\n",
       "       {'linkId': '985794629',\n",
       "        'length': 99.02,\n",
       "        'remainDistance': 3358,\n",
       "        'remainTime': 200,\n",
       "        'shape': [42.29614, -85.65514, 42.29617, -85.65394],\n",
       "        'functionalClass': 3,\n",
       "        'confidence': 1.0},\n",
       "       {'linkId': '1175198479',\n",
       "        'length': 57.74,\n",
       "        'remainDistance': 3259,\n",
       "        'remainTime': 197,\n",
       "        'shape': [42.29617, -85.65394, 42.29618, -85.65324],\n",
       "        'functionalClass': 3,\n",
       "        'confidence': 1.0},\n",
       "       {'linkId': '1175198480',\n",
       "        'length': 40.42,\n",
       "        'remainDistance': 3201,\n",
       "        'remainTime': 191,\n",
       "        'shape': [42.29618, -85.65324, 42.29619, -85.65275],\n",
       "        'functionalClass': 3,\n",
       "        'confidence': 1.0},\n",
       "       {'linkId': '1238376198',\n",
       "        'length': 48.67,\n",
       "        'remainDistance': 3161,\n",
       "        'remainTime': 188,\n",
       "        'shape': [42.29619, -85.65275, 42.2962, -85.65216],\n",
       "        'functionalClass': 3,\n",
       "        'confidence': 1.0},\n",
       "       {'linkId': '1247519770',\n",
       "        'length': 20.65,\n",
       "        'remainDistance': 3112,\n",
       "        'remainTime': 186,\n",
       "        'shape': [42.2962, -85.65216, 42.29621, -85.65191],\n",
       "        'functionalClass': 3,\n",
       "        'confidence': 1.0},\n",
       "       {'linkId': '1247519771',\n",
       "        'length': 15.67,\n",
       "        'remainDistance': 3091,\n",
       "        'remainTime': 184,\n",
       "        'shape': [42.29621, -85.65191, 42.29621, -85.65172],\n",
       "        'functionalClass': 3,\n",
       "        'confidence': 1.0},\n",
       "       {'linkId': '1247489091',\n",
       "        'length': 14.84,\n",
       "        'remainDistance': 3076,\n",
       "        'remainTime': 183,\n",
       "        'shape': [42.29621, -85.65172, 42.29621, -85.65154],\n",
       "        'functionalClass': 3,\n",
       "        'confidence': 1.0},\n",
       "       {'linkId': '1297278788',\n",
       "        'length': 49.49,\n",
       "        'remainDistance': 3061,\n",
       "        'remainTime': 182,\n",
       "        'shape': [42.29621, -85.65154, 42.29622, -85.65094],\n",
       "        'functionalClass': 3,\n",
       "        'confidence': 1.0},\n",
       "       {'linkId': '1297278789',\n",
       "        'length': 25.59,\n",
       "        'remainDistance': 3011,\n",
       "        'remainTime': 181,\n",
       "        'shape': [42.29622, -85.65094, 42.29623, -85.65063],\n",
       "        'functionalClass': 3,\n",
       "        'confidence': 1.0},\n",
       "       {'linkId': '1297278790',\n",
       "        'length': 25.56,\n",
       "        'remainDistance': 2986,\n",
       "        'remainTime': 179,\n",
       "        'shape': [42.29623, -85.65063, 42.29623, -85.65032],\n",
       "        'functionalClass': 3,\n",
       "        'confidence': 1.0},\n",
       "       {'linkId': '1247406190',\n",
       "        'length': 25.59,\n",
       "        'remainDistance': 2960,\n",
       "        'remainTime': 177,\n",
       "        'shape': [42.29623, -85.65032, 42.29624, -85.65001],\n",
       "        'functionalClass': 3,\n",
       "        'confidence': 1.0},\n",
       "       {'linkId': '1297278791',\n",
       "        'length': 23.09,\n",
       "        'remainDistance': 2935,\n",
       "        'remainTime': 176,\n",
       "        'shape': [42.29624, -85.65001, 42.29624, -85.64973],\n",
       "        'functionalClass': 3,\n",
       "        'confidence': 1.0},\n",
       "       {'linkId': '1297278792',\n",
       "        'length': 34.65,\n",
       "        'remainDistance': 2912,\n",
       "        'remainTime': 175,\n",
       "        'shape': [42.29624, -85.64973, 42.29625, -85.64931],\n",
       "        'functionalClass': 3,\n",
       "        'confidence': 1.0},\n",
       "       {'linkId': '1247387610',\n",
       "        'length': 93.21,\n",
       "        'remainDistance': 2877,\n",
       "        'remainTime': 174,\n",
       "        'shape': [42.29625, -85.64931, 42.29627, -85.64818],\n",
       "        'functionalClass': 3,\n",
       "        'confidence': 1.0},\n",
       "       {'linkId': '-1247477825',\n",
       "        'length': 63.31,\n",
       "        'remainDistance': 2784,\n",
       "        'remainTime': 172,\n",
       "        'shape': [42.29627, -85.64818, 42.2957, -85.64818],\n",
       "        'functionalClass': 4,\n",
       "        'confidence': 1.0},\n",
       "       {'linkId': '-1297278849',\n",
       "        'length': 19.99,\n",
       "        'remainDistance': 2720,\n",
       "        'remainTime': 167,\n",
       "        'shape': [42.2957, -85.64818, 42.29552, -85.64818],\n",
       "        'functionalClass': 4,\n",
       "        'confidence': 1.0},\n",
       "       {'linkId': '-1297278848',\n",
       "        'length': 17.77,\n",
       "        'remainDistance': 2701,\n",
       "        'remainTime': 163,\n",
       "        'shape': [42.29552, -85.64818, 42.29536, -85.64818],\n",
       "        'functionalClass': 4,\n",
       "        'confidence': 1.0},\n",
       "       {'linkId': '-1247387605',\n",
       "        'length': 21.1,\n",
       "        'remainDistance': 2683,\n",
       "        'remainTime': 162,\n",
       "        'shape': [42.29536, -85.64818, 42.29517, -85.64818],\n",
       "        'functionalClass': 4,\n",
       "        'confidence': 1.0},\n",
       "       {'linkId': '-1247471683',\n",
       "        'length': 18.88,\n",
       "        'remainDistance': 2662,\n",
       "        'remainTime': 160,\n",
       "        'shape': [42.29517, -85.64818, 42.295, -85.64818],\n",
       "        'functionalClass': 4,\n",
       "        'confidence': 1.0},\n",
       "       {'linkId': '-1247471682',\n",
       "        'length': 64.42,\n",
       "        'remainDistance': 2643,\n",
       "        'remainTime': 160,\n",
       "        'shape': [42.295, -85.64818, 42.29442, -85.64818],\n",
       "        'functionalClass': 4,\n",
       "        'confidence': 1.0},\n",
       "       {'linkId': '-1247406193',\n",
       "        'length': 151.07,\n",
       "        'remainDistance': 2578,\n",
       "        'remainTime': 159,\n",
       "        'shape': [42.29442, -85.64818, 42.29306, -85.64819],\n",
       "        'functionalClass': 4,\n",
       "        'confidence': 1.0},\n",
       "       {'linkId': '-108096089',\n",
       "        'length': 108.86,\n",
       "        'remainDistance': 2427,\n",
       "        'remainTime': 155,\n",
       "        'shape': [42.29306, -85.64819, 42.29208, -85.64819],\n",
       "        'functionalClass': 4,\n",
       "        'confidence': 1.0},\n",
       "       {'linkId': '-1247489075',\n",
       "        'length': 69.98,\n",
       "        'remainDistance': 2318,\n",
       "        'remainTime': 146,\n",
       "        'shape': [42.29208, -85.64819, 42.29145, -85.64819],\n",
       "        'functionalClass': 4,\n",
       "        'confidence': 1.0},\n",
       "       {'linkId': '-1247489074',\n",
       "        'length': 17.77,\n",
       "        'remainDistance': 2248,\n",
       "        'remainTime': 139,\n",
       "        'shape': [42.29145, -85.64819, 42.29129, -85.64819],\n",
       "        'functionalClass': 4,\n",
       "        'confidence': 1.0},\n",
       "       {'linkId': '-918436360',\n",
       "        'length': 236.6,\n",
       "        'remainDistance': 2231,\n",
       "        'remainTime': 135,\n",
       "        'shape': [42.29129, -85.64819, 42.28916, -85.64821],\n",
       "        'functionalClass': 4,\n",
       "        'confidence': 1.0},\n",
       "       {'linkId': '-918436359',\n",
       "        'length': 62.21,\n",
       "        'remainDistance': 1994,\n",
       "        'remainTime': 134,\n",
       "        'shape': [42.28916, -85.64821, 42.2886, -85.64822],\n",
       "        'functionalClass': 4,\n",
       "        'confidence': 1.0},\n",
       "       {'linkId': '-108097063',\n",
       "        'length': 124.41,\n",
       "        'remainDistance': 1932,\n",
       "        'remainTime': 120,\n",
       "        'shape': [42.2886, -85.64822, 42.28748, -85.64822],\n",
       "        'functionalClass': 4,\n",
       "        'confidence': 1.0},\n",
       "       {'linkId': '-115640354',\n",
       "        'length': 15.55,\n",
       "        'remainDistance': 1807,\n",
       "        'remainTime': 116,\n",
       "        'shape': [42.28748, -85.64822, 42.28734, -85.64822],\n",
       "        'functionalClass': 4,\n",
       "        'confidence': 1.0},\n",
       "       {'linkId': '-115640353',\n",
       "        'length': 165.51,\n",
       "        'remainDistance': 1792,\n",
       "        'remainTime': 108,\n",
       "        'shape': [42.28734, -85.64822, 42.28585, -85.64824],\n",
       "        'functionalClass': 4,\n",
       "        'confidence': 1.0},\n",
       "       {'linkId': '-108097518',\n",
       "        'length': 179.95,\n",
       "        'remainDistance': 1626,\n",
       "        'remainTime': 108,\n",
       "        'shape': [42.28585, -85.64824, 42.28423, -85.64824],\n",
       "        'functionalClass': 4,\n",
       "        'confidence': 1.0},\n",
       "       {'linkId': '-1269977567',\n",
       "        'length': 77.75,\n",
       "        'remainDistance': 1446,\n",
       "        'remainTime': 98,\n",
       "        'shape': [42.28423, -85.64824, 42.28353, -85.64824],\n",
       "        'functionalClass': 4,\n",
       "        'confidence': 1.0},\n",
       "       {'linkId': '-1269977566',\n",
       "        'length': 103.31,\n",
       "        'remainDistance': 1369,\n",
       "        'remainTime': 85,\n",
       "        'shape': [42.28353,\n",
       "         -85.64824,\n",
       "         42.28263,\n",
       "         -85.64825,\n",
       "         42.2826,\n",
       "         -85.64825],\n",
       "        'functionalClass': 4,\n",
       "        'confidence': 1.0},\n",
       "       {'linkId': '-115638986',\n",
       "        'length': 7.78,\n",
       "        'remainDistance': 1265,\n",
       "        'remainTime': 82,\n",
       "        'shape': [42.2826, -85.64825, 42.28253, -85.64825],\n",
       "        'functionalClass': 4,\n",
       "        'confidence': 1.0},\n",
       "       {'linkId': '-115638985',\n",
       "        'length': 159.95,\n",
       "        'remainDistance': 1258,\n",
       "        'remainTime': 76,\n",
       "        'shape': [42.28253, -85.64825, 42.28109, -85.64826],\n",
       "        'functionalClass': 4,\n",
       "        'confidence': 1.0},\n",
       "       {'linkId': '-115639434',\n",
       "        'length': 96.64,\n",
       "        'remainDistance': 1098,\n",
       "        'remainTime': 75,\n",
       "        'shape': [42.28109, -85.64826, 42.28022, -85.64826],\n",
       "        'functionalClass': 4,\n",
       "        'confidence': 1.0},\n",
       "       {'linkId': '-115639436',\n",
       "        'length': 12.22,\n",
       "        'remainDistance': 1001,\n",
       "        'remainTime': 66,\n",
       "        'shape': [42.28022, -85.64826, 42.28011, -85.64826],\n",
       "        'functionalClass': 4,\n",
       "        'confidence': 1.0},\n",
       "       {'linkId': '-115639435',\n",
       "        'length': 222.16,\n",
       "        'remainDistance': 989,\n",
       "        'remainTime': 60,\n",
       "        'shape': [42.28011, -85.64826, 42.27811, -85.64827],\n",
       "        'functionalClass': 4,\n",
       "        'confidence': 1.0},\n",
       "       {'linkId': '-1228130178',\n",
       "        'length': 16.66,\n",
       "        'remainDistance': 767,\n",
       "        'remainTime': 59,\n",
       "        'shape': [42.27811, -85.64827, 42.27796, -85.64827],\n",
       "        'functionalClass': 4,\n",
       "        'confidence': 1.0},\n",
       "       {'linkId': '-1228130177',\n",
       "        'length': 10.0,\n",
       "        'remainDistance': 750,\n",
       "        'remainTime': 46,\n",
       "        'shape': [42.27796, -85.64827, 42.27787, -85.64827],\n",
       "        'functionalClass': 4,\n",
       "        'confidence': 1.0},\n",
       "       {'linkId': '-1228130176',\n",
       "        'length': 38.89,\n",
       "        'remainDistance': 740,\n",
       "        'remainTime': 45,\n",
       "        'shape': [42.27787, -85.64827, 42.27752, -85.64828],\n",
       "        'functionalClass': 4,\n",
       "        'confidence': 1.0},\n",
       "       {'linkId': '-127288475',\n",
       "        'length': 28.89,\n",
       "        'remainDistance': 701,\n",
       "        'remainTime': 44,\n",
       "        'shape': [42.27752, -85.64828, 42.27726, -85.64827],\n",
       "        'functionalClass': 4,\n",
       "        'confidence': 1.0},\n",
       "       {'linkId': '-127288474',\n",
       "        'length': 57.76,\n",
       "        'remainDistance': 672,\n",
       "        'remainTime': 42,\n",
       "        'shape': [42.27726, -85.64827, 42.27674, -85.64827],\n",
       "        'functionalClass': 4,\n",
       "        'confidence': 1.0},\n",
       "       {'linkId': '-108099135',\n",
       "        'length': 67.76,\n",
       "        'remainDistance': 614,\n",
       "        'remainTime': 40,\n",
       "        'shape': [42.27674, -85.64827, 42.27613, -85.64827],\n",
       "        'functionalClass': 4,\n",
       "        'confidence': 1.0},\n",
       "       {'linkId': '-108099291',\n",
       "        'length': 43.33,\n",
       "        'remainDistance': 547,\n",
       "        'remainTime': 37,\n",
       "        'shape': [42.27613, -85.64827, 42.27574, -85.64828],\n",
       "        'functionalClass': 4,\n",
       "        'confidence': 1.0},\n",
       "       {'linkId': '-108099363',\n",
       "        'length': 44.44,\n",
       "        'remainDistance': 503,\n",
       "        'remainTime': 33,\n",
       "        'shape': [42.27574, -85.64828, 42.27534, -85.64829],\n",
       "        'functionalClass': 4,\n",
       "        'confidence': 1.0},\n",
       "       {'linkId': '-1247013794',\n",
       "        'length': 212.16,\n",
       "        'remainDistance': 459,\n",
       "        'remainTime': 30,\n",
       "        'shape': [42.27534, -85.64829, 42.27343, -85.64831],\n",
       "        'functionalClass': 4,\n",
       "        'confidence': 1.0},\n",
       "       {'linkId': '-1247013793',\n",
       "        'length': 94.42,\n",
       "        'remainDistance': 247,\n",
       "        'remainTime': 28,\n",
       "        'shape': [42.27343, -85.64831, 42.27258, -85.64832],\n",
       "        'functionalClass': 4,\n",
       "        'confidence': 1.0},\n",
       "       {'linkId': '-1247203687',\n",
       "        'length': 49.99,\n",
       "        'remainDistance': 152,\n",
       "        'remainTime': 15,\n",
       "        'shape': [42.27258, -85.64832, 42.27213, -85.64833],\n",
       "        'functionalClass': 4,\n",
       "        'confidence': 1.0},\n",
       "       {'linkId': '-1247203686',\n",
       "        'length': 43.32,\n",
       "        'remainDistance': 102,\n",
       "        'remainTime': 7,\n",
       "        'shape': [42.27213, -85.64833, 42.27174, -85.64833],\n",
       "        'functionalClass': 4,\n",
       "        'confidence': 1.0},\n",
       "       {'linkId': '-1117720053',\n",
       "        'length': 59.0,\n",
       "        'remainDistance': 59,\n",
       "        'remainTime': 6,\n",
       "        'shape': [42.27174, -85.64833, 42.27121, -85.64834],\n",
       "        'functionalClass': 4,\n",
       "        'confidence': 1.0}],\n",
       "      'trafficTime': 649,\n",
       "      'baseTime': 649}],\n",
       "    'summary': {'travelTime': 649,\n",
       "     'distance': 9762,\n",
       "     'baseTime': 649,\n",
       "     'trafficTime': 649,\n",
       "     'flags': []}}],\n",
       "  'warnings': [],\n",
       "  'language': 'en-us'}}"
      ]
     },
     "execution_count": 12,
     "metadata": {},
     "output_type": "execute_result"
    }
   ],
   "source": [
    "response = requests.get(url, params=params)\n",
    "data = response.json()\n",
    "data\n"
   ]
  },
  {
   "cell_type": "code",
   "execution_count": 13,
   "metadata": {},
   "outputs": [],
   "source": [
    "data_waypoints = data[\"response\"][\"route\"][0][\"waypoint\"]\n"
   ]
  },
  {
   "cell_type": "markdown",
   "metadata": {},
   "source": [
    "List of route-matched GPS coordinates"
   ]
  },
  {
   "cell_type": "code",
   "execution_count": 14,
   "metadata": {},
   "outputs": [],
   "source": [
    "matched_lat = [waypoint[\"mappedPosition\"][\"latitude\"] for waypoint in data_waypoints]\n",
    "matched_lng = [waypoint[\"mappedPosition\"][\"longitude\"] for waypoint in data_waypoints]"
   ]
  },
  {
   "cell_type": "code",
   "execution_count": 15,
   "metadata": {},
   "outputs": [],
   "source": [
    "df['matched_latitude'] = matched_lat\n",
    "df['matched_longitude'] = matched_lng"
   ]
  },
  {
   "cell_type": "markdown",
   "metadata": {},
   "source": [
    "# Comparison"
   ]
  },
  {
   "cell_type": "code",
   "execution_count": 16,
   "metadata": {},
   "outputs": [],
   "source": [
    "BUBBLE_SIZE = 7\n",
    "df['bubble_size'] = [BUBBLE_SIZE]*len(df)"
   ]
  },
  {
   "cell_type": "code",
   "execution_count": 17,
   "metadata": {},
   "outputs": [],
   "source": [
    "CENTER = {\"lat\": 42.256, \"lon\": -85.64}"
   ]
  },
  {
   "cell_type": "code",
   "execution_count": 18,
   "metadata": {},
   "outputs": [],
   "source": [
    "ZOOM = 15"
   ]
  },
  {
   "cell_type": "code",
   "execution_count": 19,
   "metadata": {},
   "outputs": [
    {
     "data": {
      "application/vnd.plotly.v1+json": {
       "config": {
        "plotlyServerURL": "https://plot.ly"
       },
       "data": [
        {
         "hovertemplate": "bubble_size=%{marker.size}<br>latitude=%{lat}<br>longitude=%{lon}<extra></extra>",
         "lat": [
          42.25539,
          42.25623,
          42.25701,
          42.25869,
          42.26185,
          42.26574,
          42.2692,
          42.26919,
          42.27179,
          42.2773,
          42.28136,
          42.28746,
          42.29308,
          42.29589,
          42.29616,
          42.29527,
          42.28392,
          42.27219,
          42.27121
         ],
         "legendgroup": "",
         "lon": [
          -85.63683,
          -85.63883,
          -85.64067,
          -85.64743,
          -85.6479,
          -85.64834,
          -85.64828,
          -85.6513,
          -85.65437,
          -85.65581,
          -85.6568,
          -85.66019,
          -85.66268,
          -85.66178,
          -85.65403,
          -85.64806,
          -85.64832,
          -85.64818,
          -85.64851
         ],
         "marker": {
          "color": "black",
          "size": [
           7,
           7,
           7,
           7,
           7,
           7,
           7,
           7,
           7,
           7,
           7,
           7,
           7,
           7,
           7,
           7,
           7,
           7,
           7
          ],
          "sizemode": "area",
          "sizeref": 0.14285714285714285
         },
         "mode": "markers",
         "name": "",
         "showlegend": false,
         "subplot": "mapbox",
         "type": "scattermapbox"
        }
       ],
       "layout": {
        "legend": {
         "itemsizing": "constant",
         "tracegroupgap": 0
        },
        "mapbox": {
         "center": {
          "lat": 42.256,
          "lon": -85.64
         },
         "domain": {
          "x": [
           0,
           1
          ],
          "y": [
           0,
           1
          ]
         },
         "style": "open-street-map",
         "zoom": 15
        },
        "margin": {
         "b": 0,
         "l": 0,
         "r": 0,
         "t": 0
        },
        "template": {
         "data": {
          "bar": [
           {
            "error_x": {
             "color": "#2a3f5f"
            },
            "error_y": {
             "color": "#2a3f5f"
            },
            "marker": {
             "line": {
              "color": "#E5ECF6",
              "width": 0.5
             },
             "pattern": {
              "fillmode": "overlay",
              "size": 10,
              "solidity": 0.2
             }
            },
            "type": "bar"
           }
          ],
          "barpolar": [
           {
            "marker": {
             "line": {
              "color": "#E5ECF6",
              "width": 0.5
             },
             "pattern": {
              "fillmode": "overlay",
              "size": 10,
              "solidity": 0.2
             }
            },
            "type": "barpolar"
           }
          ],
          "carpet": [
           {
            "aaxis": {
             "endlinecolor": "#2a3f5f",
             "gridcolor": "white",
             "linecolor": "white",
             "minorgridcolor": "white",
             "startlinecolor": "#2a3f5f"
            },
            "baxis": {
             "endlinecolor": "#2a3f5f",
             "gridcolor": "white",
             "linecolor": "white",
             "minorgridcolor": "white",
             "startlinecolor": "#2a3f5f"
            },
            "type": "carpet"
           }
          ],
          "choropleth": [
           {
            "colorbar": {
             "outlinewidth": 0,
             "ticks": ""
            },
            "type": "choropleth"
           }
          ],
          "contour": [
           {
            "colorbar": {
             "outlinewidth": 0,
             "ticks": ""
            },
            "colorscale": [
             [
              0,
              "#0d0887"
             ],
             [
              0.1111111111111111,
              "#46039f"
             ],
             [
              0.2222222222222222,
              "#7201a8"
             ],
             [
              0.3333333333333333,
              "#9c179e"
             ],
             [
              0.4444444444444444,
              "#bd3786"
             ],
             [
              0.5555555555555556,
              "#d8576b"
             ],
             [
              0.6666666666666666,
              "#ed7953"
             ],
             [
              0.7777777777777778,
              "#fb9f3a"
             ],
             [
              0.8888888888888888,
              "#fdca26"
             ],
             [
              1,
              "#f0f921"
             ]
            ],
            "type": "contour"
           }
          ],
          "contourcarpet": [
           {
            "colorbar": {
             "outlinewidth": 0,
             "ticks": ""
            },
            "type": "contourcarpet"
           }
          ],
          "heatmap": [
           {
            "colorbar": {
             "outlinewidth": 0,
             "ticks": ""
            },
            "colorscale": [
             [
              0,
              "#0d0887"
             ],
             [
              0.1111111111111111,
              "#46039f"
             ],
             [
              0.2222222222222222,
              "#7201a8"
             ],
             [
              0.3333333333333333,
              "#9c179e"
             ],
             [
              0.4444444444444444,
              "#bd3786"
             ],
             [
              0.5555555555555556,
              "#d8576b"
             ],
             [
              0.6666666666666666,
              "#ed7953"
             ],
             [
              0.7777777777777778,
              "#fb9f3a"
             ],
             [
              0.8888888888888888,
              "#fdca26"
             ],
             [
              1,
              "#f0f921"
             ]
            ],
            "type": "heatmap"
           }
          ],
          "heatmapgl": [
           {
            "colorbar": {
             "outlinewidth": 0,
             "ticks": ""
            },
            "colorscale": [
             [
              0,
              "#0d0887"
             ],
             [
              0.1111111111111111,
              "#46039f"
             ],
             [
              0.2222222222222222,
              "#7201a8"
             ],
             [
              0.3333333333333333,
              "#9c179e"
             ],
             [
              0.4444444444444444,
              "#bd3786"
             ],
             [
              0.5555555555555556,
              "#d8576b"
             ],
             [
              0.6666666666666666,
              "#ed7953"
             ],
             [
              0.7777777777777778,
              "#fb9f3a"
             ],
             [
              0.8888888888888888,
              "#fdca26"
             ],
             [
              1,
              "#f0f921"
             ]
            ],
            "type": "heatmapgl"
           }
          ],
          "histogram": [
           {
            "marker": {
             "pattern": {
              "fillmode": "overlay",
              "size": 10,
              "solidity": 0.2
             }
            },
            "type": "histogram"
           }
          ],
          "histogram2d": [
           {
            "colorbar": {
             "outlinewidth": 0,
             "ticks": ""
            },
            "colorscale": [
             [
              0,
              "#0d0887"
             ],
             [
              0.1111111111111111,
              "#46039f"
             ],
             [
              0.2222222222222222,
              "#7201a8"
             ],
             [
              0.3333333333333333,
              "#9c179e"
             ],
             [
              0.4444444444444444,
              "#bd3786"
             ],
             [
              0.5555555555555556,
              "#d8576b"
             ],
             [
              0.6666666666666666,
              "#ed7953"
             ],
             [
              0.7777777777777778,
              "#fb9f3a"
             ],
             [
              0.8888888888888888,
              "#fdca26"
             ],
             [
              1,
              "#f0f921"
             ]
            ],
            "type": "histogram2d"
           }
          ],
          "histogram2dcontour": [
           {
            "colorbar": {
             "outlinewidth": 0,
             "ticks": ""
            },
            "colorscale": [
             [
              0,
              "#0d0887"
             ],
             [
              0.1111111111111111,
              "#46039f"
             ],
             [
              0.2222222222222222,
              "#7201a8"
             ],
             [
              0.3333333333333333,
              "#9c179e"
             ],
             [
              0.4444444444444444,
              "#bd3786"
             ],
             [
              0.5555555555555556,
              "#d8576b"
             ],
             [
              0.6666666666666666,
              "#ed7953"
             ],
             [
              0.7777777777777778,
              "#fb9f3a"
             ],
             [
              0.8888888888888888,
              "#fdca26"
             ],
             [
              1,
              "#f0f921"
             ]
            ],
            "type": "histogram2dcontour"
           }
          ],
          "mesh3d": [
           {
            "colorbar": {
             "outlinewidth": 0,
             "ticks": ""
            },
            "type": "mesh3d"
           }
          ],
          "parcoords": [
           {
            "line": {
             "colorbar": {
              "outlinewidth": 0,
              "ticks": ""
             }
            },
            "type": "parcoords"
           }
          ],
          "pie": [
           {
            "automargin": true,
            "type": "pie"
           }
          ],
          "scatter": [
           {
            "marker": {
             "colorbar": {
              "outlinewidth": 0,
              "ticks": ""
             }
            },
            "type": "scatter"
           }
          ],
          "scatter3d": [
           {
            "line": {
             "colorbar": {
              "outlinewidth": 0,
              "ticks": ""
             }
            },
            "marker": {
             "colorbar": {
              "outlinewidth": 0,
              "ticks": ""
             }
            },
            "type": "scatter3d"
           }
          ],
          "scattercarpet": [
           {
            "marker": {
             "colorbar": {
              "outlinewidth": 0,
              "ticks": ""
             }
            },
            "type": "scattercarpet"
           }
          ],
          "scattergeo": [
           {
            "marker": {
             "colorbar": {
              "outlinewidth": 0,
              "ticks": ""
             }
            },
            "type": "scattergeo"
           }
          ],
          "scattergl": [
           {
            "marker": {
             "colorbar": {
              "outlinewidth": 0,
              "ticks": ""
             }
            },
            "type": "scattergl"
           }
          ],
          "scattermapbox": [
           {
            "marker": {
             "colorbar": {
              "outlinewidth": 0,
              "ticks": ""
             }
            },
            "type": "scattermapbox"
           }
          ],
          "scatterpolar": [
           {
            "marker": {
             "colorbar": {
              "outlinewidth": 0,
              "ticks": ""
             }
            },
            "type": "scatterpolar"
           }
          ],
          "scatterpolargl": [
           {
            "marker": {
             "colorbar": {
              "outlinewidth": 0,
              "ticks": ""
             }
            },
            "type": "scatterpolargl"
           }
          ],
          "scatterternary": [
           {
            "marker": {
             "colorbar": {
              "outlinewidth": 0,
              "ticks": ""
             }
            },
            "type": "scatterternary"
           }
          ],
          "surface": [
           {
            "colorbar": {
             "outlinewidth": 0,
             "ticks": ""
            },
            "colorscale": [
             [
              0,
              "#0d0887"
             ],
             [
              0.1111111111111111,
              "#46039f"
             ],
             [
              0.2222222222222222,
              "#7201a8"
             ],
             [
              0.3333333333333333,
              "#9c179e"
             ],
             [
              0.4444444444444444,
              "#bd3786"
             ],
             [
              0.5555555555555556,
              "#d8576b"
             ],
             [
              0.6666666666666666,
              "#ed7953"
             ],
             [
              0.7777777777777778,
              "#fb9f3a"
             ],
             [
              0.8888888888888888,
              "#fdca26"
             ],
             [
              1,
              "#f0f921"
             ]
            ],
            "type": "surface"
           }
          ],
          "table": [
           {
            "cells": {
             "fill": {
              "color": "#EBF0F8"
             },
             "line": {
              "color": "white"
             }
            },
            "header": {
             "fill": {
              "color": "#C8D4E3"
             },
             "line": {
              "color": "white"
             }
            },
            "type": "table"
           }
          ]
         },
         "layout": {
          "annotationdefaults": {
           "arrowcolor": "#2a3f5f",
           "arrowhead": 0,
           "arrowwidth": 1
          },
          "autotypenumbers": "strict",
          "coloraxis": {
           "colorbar": {
            "outlinewidth": 0,
            "ticks": ""
           }
          },
          "colorscale": {
           "diverging": [
            [
             0,
             "#8e0152"
            ],
            [
             0.1,
             "#c51b7d"
            ],
            [
             0.2,
             "#de77ae"
            ],
            [
             0.3,
             "#f1b6da"
            ],
            [
             0.4,
             "#fde0ef"
            ],
            [
             0.5,
             "#f7f7f7"
            ],
            [
             0.6,
             "#e6f5d0"
            ],
            [
             0.7,
             "#b8e186"
            ],
            [
             0.8,
             "#7fbc41"
            ],
            [
             0.9,
             "#4d9221"
            ],
            [
             1,
             "#276419"
            ]
           ],
           "sequential": [
            [
             0,
             "#0d0887"
            ],
            [
             0.1111111111111111,
             "#46039f"
            ],
            [
             0.2222222222222222,
             "#7201a8"
            ],
            [
             0.3333333333333333,
             "#9c179e"
            ],
            [
             0.4444444444444444,
             "#bd3786"
            ],
            [
             0.5555555555555556,
             "#d8576b"
            ],
            [
             0.6666666666666666,
             "#ed7953"
            ],
            [
             0.7777777777777778,
             "#fb9f3a"
            ],
            [
             0.8888888888888888,
             "#fdca26"
            ],
            [
             1,
             "#f0f921"
            ]
           ],
           "sequentialminus": [
            [
             0,
             "#0d0887"
            ],
            [
             0.1111111111111111,
             "#46039f"
            ],
            [
             0.2222222222222222,
             "#7201a8"
            ],
            [
             0.3333333333333333,
             "#9c179e"
            ],
            [
             0.4444444444444444,
             "#bd3786"
            ],
            [
             0.5555555555555556,
             "#d8576b"
            ],
            [
             0.6666666666666666,
             "#ed7953"
            ],
            [
             0.7777777777777778,
             "#fb9f3a"
            ],
            [
             0.8888888888888888,
             "#fdca26"
            ],
            [
             1,
             "#f0f921"
            ]
           ]
          },
          "colorway": [
           "#636efa",
           "#EF553B",
           "#00cc96",
           "#ab63fa",
           "#FFA15A",
           "#19d3f3",
           "#FF6692",
           "#B6E880",
           "#FF97FF",
           "#FECB52"
          ],
          "font": {
           "color": "#2a3f5f"
          },
          "geo": {
           "bgcolor": "white",
           "lakecolor": "white",
           "landcolor": "#E5ECF6",
           "showlakes": true,
           "showland": true,
           "subunitcolor": "white"
          },
          "hoverlabel": {
           "align": "left"
          },
          "hovermode": "closest",
          "mapbox": {
           "style": "light"
          },
          "paper_bgcolor": "white",
          "plot_bgcolor": "#E5ECF6",
          "polar": {
           "angularaxis": {
            "gridcolor": "white",
            "linecolor": "white",
            "ticks": ""
           },
           "bgcolor": "#E5ECF6",
           "radialaxis": {
            "gridcolor": "white",
            "linecolor": "white",
            "ticks": ""
           }
          },
          "scene": {
           "xaxis": {
            "backgroundcolor": "#E5ECF6",
            "gridcolor": "white",
            "gridwidth": 2,
            "linecolor": "white",
            "showbackground": true,
            "ticks": "",
            "zerolinecolor": "white"
           },
           "yaxis": {
            "backgroundcolor": "#E5ECF6",
            "gridcolor": "white",
            "gridwidth": 2,
            "linecolor": "white",
            "showbackground": true,
            "ticks": "",
            "zerolinecolor": "white"
           },
           "zaxis": {
            "backgroundcolor": "#E5ECF6",
            "gridcolor": "white",
            "gridwidth": 2,
            "linecolor": "white",
            "showbackground": true,
            "ticks": "",
            "zerolinecolor": "white"
           }
          },
          "shapedefaults": {
           "line": {
            "color": "#2a3f5f"
           }
          },
          "ternary": {
           "aaxis": {
            "gridcolor": "white",
            "linecolor": "white",
            "ticks": ""
           },
           "baxis": {
            "gridcolor": "white",
            "linecolor": "white",
            "ticks": ""
           },
           "bgcolor": "#E5ECF6",
           "caxis": {
            "gridcolor": "white",
            "linecolor": "white",
            "ticks": ""
           }
          },
          "title": {
           "x": 0.05
          },
          "xaxis": {
           "automargin": true,
           "gridcolor": "white",
           "linecolor": "white",
           "ticks": "",
           "title": {
            "standoff": 15
           },
           "zerolinecolor": "white",
           "zerolinewidth": 2
          },
          "yaxis": {
           "automargin": true,
           "gridcolor": "white",
           "linecolor": "white",
           "ticks": "",
           "title": {
            "standoff": 15
           },
           "zerolinecolor": "white",
           "zerolinewidth": 2
          }
         }
        }
       }
      }
     },
     "metadata": {},
     "output_type": "display_data"
    }
   ],
   "source": [
    "fig = px.scatter_mapbox(\n",
    "    df,\n",
    "    lat=\"latitude\",\n",
    "    lon=\"longitude\",\n",
    "    color_discrete_sequence=[\"black\"],\n",
    "    size=\"bubble_size\",\n",
    "    size_max=BUBBLE_SIZE,\n",
    "    mapbox_style=\"open-street-map\",\n",
    "    center=CENTER,\n",
    "    zoom=ZOOM,\n",
    ")\n",
    "\n",
    "fig.update_layout(margin={\"l\": 0, \"r\": 0, \"t\": 0, \"b\": 0})\n",
    "fig.show()\n"
   ]
  },
  {
   "cell_type": "code",
   "execution_count": 20,
   "metadata": {},
   "outputs": [
    {
     "data": {
      "application/vnd.plotly.v1+json": {
       "config": {
        "plotlyServerURL": "https://plot.ly"
       },
       "data": [
        {
         "hovertemplate": "bubble_size=%{marker.size}<br>matched_latitude=%{lat}<br>matched_longitude=%{lon}<extra></extra>",
         "lat": [
          42.25528,
          42.25621,
          42.25686,
          42.25859,
          42.26185,
          42.26574,
          42.2692,
          42.26917,
          42.27178,
          42.27729,
          42.28134,
          42.28744,
          42.29313,
          42.29589,
          42.29617,
          42.29527,
          42.28392,
          42.27219,
          42.27121
         ],
         "legendgroup": "",
         "lon": [
          -85.63712,
          -85.63868,
          -85.64054,
          -85.64755,
          -85.64812,
          -85.64824,
          -85.64836,
          -85.65129,
          -85.65442,
          -85.65585,
          -85.65693,
          -85.66025,
          -85.66304,
          -85.66164,
          -85.65394,
          -85.64818,
          -85.64824,
          -85.64833,
          -85.64834
         ],
         "marker": {
          "color": "black",
          "size": [
           7,
           7,
           7,
           7,
           7,
           7,
           7,
           7,
           7,
           7,
           7,
           7,
           7,
           7,
           7,
           7,
           7,
           7,
           7
          ],
          "sizemode": "area",
          "sizeref": 0.14285714285714285
         },
         "mode": "markers",
         "name": "",
         "showlegend": false,
         "subplot": "mapbox",
         "type": "scattermapbox"
        }
       ],
       "layout": {
        "legend": {
         "itemsizing": "constant",
         "tracegroupgap": 0
        },
        "mapbox": {
         "center": {
          "lat": 42.256,
          "lon": -85.64
         },
         "domain": {
          "x": [
           0,
           1
          ],
          "y": [
           0,
           1
          ]
         },
         "style": "open-street-map",
         "zoom": 15
        },
        "margin": {
         "b": 0,
         "l": 0,
         "r": 0,
         "t": 0
        },
        "template": {
         "data": {
          "bar": [
           {
            "error_x": {
             "color": "#2a3f5f"
            },
            "error_y": {
             "color": "#2a3f5f"
            },
            "marker": {
             "line": {
              "color": "#E5ECF6",
              "width": 0.5
             },
             "pattern": {
              "fillmode": "overlay",
              "size": 10,
              "solidity": 0.2
             }
            },
            "type": "bar"
           }
          ],
          "barpolar": [
           {
            "marker": {
             "line": {
              "color": "#E5ECF6",
              "width": 0.5
             },
             "pattern": {
              "fillmode": "overlay",
              "size": 10,
              "solidity": 0.2
             }
            },
            "type": "barpolar"
           }
          ],
          "carpet": [
           {
            "aaxis": {
             "endlinecolor": "#2a3f5f",
             "gridcolor": "white",
             "linecolor": "white",
             "minorgridcolor": "white",
             "startlinecolor": "#2a3f5f"
            },
            "baxis": {
             "endlinecolor": "#2a3f5f",
             "gridcolor": "white",
             "linecolor": "white",
             "minorgridcolor": "white",
             "startlinecolor": "#2a3f5f"
            },
            "type": "carpet"
           }
          ],
          "choropleth": [
           {
            "colorbar": {
             "outlinewidth": 0,
             "ticks": ""
            },
            "type": "choropleth"
           }
          ],
          "contour": [
           {
            "colorbar": {
             "outlinewidth": 0,
             "ticks": ""
            },
            "colorscale": [
             [
              0,
              "#0d0887"
             ],
             [
              0.1111111111111111,
              "#46039f"
             ],
             [
              0.2222222222222222,
              "#7201a8"
             ],
             [
              0.3333333333333333,
              "#9c179e"
             ],
             [
              0.4444444444444444,
              "#bd3786"
             ],
             [
              0.5555555555555556,
              "#d8576b"
             ],
             [
              0.6666666666666666,
              "#ed7953"
             ],
             [
              0.7777777777777778,
              "#fb9f3a"
             ],
             [
              0.8888888888888888,
              "#fdca26"
             ],
             [
              1,
              "#f0f921"
             ]
            ],
            "type": "contour"
           }
          ],
          "contourcarpet": [
           {
            "colorbar": {
             "outlinewidth": 0,
             "ticks": ""
            },
            "type": "contourcarpet"
           }
          ],
          "heatmap": [
           {
            "colorbar": {
             "outlinewidth": 0,
             "ticks": ""
            },
            "colorscale": [
             [
              0,
              "#0d0887"
             ],
             [
              0.1111111111111111,
              "#46039f"
             ],
             [
              0.2222222222222222,
              "#7201a8"
             ],
             [
              0.3333333333333333,
              "#9c179e"
             ],
             [
              0.4444444444444444,
              "#bd3786"
             ],
             [
              0.5555555555555556,
              "#d8576b"
             ],
             [
              0.6666666666666666,
              "#ed7953"
             ],
             [
              0.7777777777777778,
              "#fb9f3a"
             ],
             [
              0.8888888888888888,
              "#fdca26"
             ],
             [
              1,
              "#f0f921"
             ]
            ],
            "type": "heatmap"
           }
          ],
          "heatmapgl": [
           {
            "colorbar": {
             "outlinewidth": 0,
             "ticks": ""
            },
            "colorscale": [
             [
              0,
              "#0d0887"
             ],
             [
              0.1111111111111111,
              "#46039f"
             ],
             [
              0.2222222222222222,
              "#7201a8"
             ],
             [
              0.3333333333333333,
              "#9c179e"
             ],
             [
              0.4444444444444444,
              "#bd3786"
             ],
             [
              0.5555555555555556,
              "#d8576b"
             ],
             [
              0.6666666666666666,
              "#ed7953"
             ],
             [
              0.7777777777777778,
              "#fb9f3a"
             ],
             [
              0.8888888888888888,
              "#fdca26"
             ],
             [
              1,
              "#f0f921"
             ]
            ],
            "type": "heatmapgl"
           }
          ],
          "histogram": [
           {
            "marker": {
             "pattern": {
              "fillmode": "overlay",
              "size": 10,
              "solidity": 0.2
             }
            },
            "type": "histogram"
           }
          ],
          "histogram2d": [
           {
            "colorbar": {
             "outlinewidth": 0,
             "ticks": ""
            },
            "colorscale": [
             [
              0,
              "#0d0887"
             ],
             [
              0.1111111111111111,
              "#46039f"
             ],
             [
              0.2222222222222222,
              "#7201a8"
             ],
             [
              0.3333333333333333,
              "#9c179e"
             ],
             [
              0.4444444444444444,
              "#bd3786"
             ],
             [
              0.5555555555555556,
              "#d8576b"
             ],
             [
              0.6666666666666666,
              "#ed7953"
             ],
             [
              0.7777777777777778,
              "#fb9f3a"
             ],
             [
              0.8888888888888888,
              "#fdca26"
             ],
             [
              1,
              "#f0f921"
             ]
            ],
            "type": "histogram2d"
           }
          ],
          "histogram2dcontour": [
           {
            "colorbar": {
             "outlinewidth": 0,
             "ticks": ""
            },
            "colorscale": [
             [
              0,
              "#0d0887"
             ],
             [
              0.1111111111111111,
              "#46039f"
             ],
             [
              0.2222222222222222,
              "#7201a8"
             ],
             [
              0.3333333333333333,
              "#9c179e"
             ],
             [
              0.4444444444444444,
              "#bd3786"
             ],
             [
              0.5555555555555556,
              "#d8576b"
             ],
             [
              0.6666666666666666,
              "#ed7953"
             ],
             [
              0.7777777777777778,
              "#fb9f3a"
             ],
             [
              0.8888888888888888,
              "#fdca26"
             ],
             [
              1,
              "#f0f921"
             ]
            ],
            "type": "histogram2dcontour"
           }
          ],
          "mesh3d": [
           {
            "colorbar": {
             "outlinewidth": 0,
             "ticks": ""
            },
            "type": "mesh3d"
           }
          ],
          "parcoords": [
           {
            "line": {
             "colorbar": {
              "outlinewidth": 0,
              "ticks": ""
             }
            },
            "type": "parcoords"
           }
          ],
          "pie": [
           {
            "automargin": true,
            "type": "pie"
           }
          ],
          "scatter": [
           {
            "marker": {
             "colorbar": {
              "outlinewidth": 0,
              "ticks": ""
             }
            },
            "type": "scatter"
           }
          ],
          "scatter3d": [
           {
            "line": {
             "colorbar": {
              "outlinewidth": 0,
              "ticks": ""
             }
            },
            "marker": {
             "colorbar": {
              "outlinewidth": 0,
              "ticks": ""
             }
            },
            "type": "scatter3d"
           }
          ],
          "scattercarpet": [
           {
            "marker": {
             "colorbar": {
              "outlinewidth": 0,
              "ticks": ""
             }
            },
            "type": "scattercarpet"
           }
          ],
          "scattergeo": [
           {
            "marker": {
             "colorbar": {
              "outlinewidth": 0,
              "ticks": ""
             }
            },
            "type": "scattergeo"
           }
          ],
          "scattergl": [
           {
            "marker": {
             "colorbar": {
              "outlinewidth": 0,
              "ticks": ""
             }
            },
            "type": "scattergl"
           }
          ],
          "scattermapbox": [
           {
            "marker": {
             "colorbar": {
              "outlinewidth": 0,
              "ticks": ""
             }
            },
            "type": "scattermapbox"
           }
          ],
          "scatterpolar": [
           {
            "marker": {
             "colorbar": {
              "outlinewidth": 0,
              "ticks": ""
             }
            },
            "type": "scatterpolar"
           }
          ],
          "scatterpolargl": [
           {
            "marker": {
             "colorbar": {
              "outlinewidth": 0,
              "ticks": ""
             }
            },
            "type": "scatterpolargl"
           }
          ],
          "scatterternary": [
           {
            "marker": {
             "colorbar": {
              "outlinewidth": 0,
              "ticks": ""
             }
            },
            "type": "scatterternary"
           }
          ],
          "surface": [
           {
            "colorbar": {
             "outlinewidth": 0,
             "ticks": ""
            },
            "colorscale": [
             [
              0,
              "#0d0887"
             ],
             [
              0.1111111111111111,
              "#46039f"
             ],
             [
              0.2222222222222222,
              "#7201a8"
             ],
             [
              0.3333333333333333,
              "#9c179e"
             ],
             [
              0.4444444444444444,
              "#bd3786"
             ],
             [
              0.5555555555555556,
              "#d8576b"
             ],
             [
              0.6666666666666666,
              "#ed7953"
             ],
             [
              0.7777777777777778,
              "#fb9f3a"
             ],
             [
              0.8888888888888888,
              "#fdca26"
             ],
             [
              1,
              "#f0f921"
             ]
            ],
            "type": "surface"
           }
          ],
          "table": [
           {
            "cells": {
             "fill": {
              "color": "#EBF0F8"
             },
             "line": {
              "color": "white"
             }
            },
            "header": {
             "fill": {
              "color": "#C8D4E3"
             },
             "line": {
              "color": "white"
             }
            },
            "type": "table"
           }
          ]
         },
         "layout": {
          "annotationdefaults": {
           "arrowcolor": "#2a3f5f",
           "arrowhead": 0,
           "arrowwidth": 1
          },
          "autotypenumbers": "strict",
          "coloraxis": {
           "colorbar": {
            "outlinewidth": 0,
            "ticks": ""
           }
          },
          "colorscale": {
           "diverging": [
            [
             0,
             "#8e0152"
            ],
            [
             0.1,
             "#c51b7d"
            ],
            [
             0.2,
             "#de77ae"
            ],
            [
             0.3,
             "#f1b6da"
            ],
            [
             0.4,
             "#fde0ef"
            ],
            [
             0.5,
             "#f7f7f7"
            ],
            [
             0.6,
             "#e6f5d0"
            ],
            [
             0.7,
             "#b8e186"
            ],
            [
             0.8,
             "#7fbc41"
            ],
            [
             0.9,
             "#4d9221"
            ],
            [
             1,
             "#276419"
            ]
           ],
           "sequential": [
            [
             0,
             "#0d0887"
            ],
            [
             0.1111111111111111,
             "#46039f"
            ],
            [
             0.2222222222222222,
             "#7201a8"
            ],
            [
             0.3333333333333333,
             "#9c179e"
            ],
            [
             0.4444444444444444,
             "#bd3786"
            ],
            [
             0.5555555555555556,
             "#d8576b"
            ],
            [
             0.6666666666666666,
             "#ed7953"
            ],
            [
             0.7777777777777778,
             "#fb9f3a"
            ],
            [
             0.8888888888888888,
             "#fdca26"
            ],
            [
             1,
             "#f0f921"
            ]
           ],
           "sequentialminus": [
            [
             0,
             "#0d0887"
            ],
            [
             0.1111111111111111,
             "#46039f"
            ],
            [
             0.2222222222222222,
             "#7201a8"
            ],
            [
             0.3333333333333333,
             "#9c179e"
            ],
            [
             0.4444444444444444,
             "#bd3786"
            ],
            [
             0.5555555555555556,
             "#d8576b"
            ],
            [
             0.6666666666666666,
             "#ed7953"
            ],
            [
             0.7777777777777778,
             "#fb9f3a"
            ],
            [
             0.8888888888888888,
             "#fdca26"
            ],
            [
             1,
             "#f0f921"
            ]
           ]
          },
          "colorway": [
           "#636efa",
           "#EF553B",
           "#00cc96",
           "#ab63fa",
           "#FFA15A",
           "#19d3f3",
           "#FF6692",
           "#B6E880",
           "#FF97FF",
           "#FECB52"
          ],
          "font": {
           "color": "#2a3f5f"
          },
          "geo": {
           "bgcolor": "white",
           "lakecolor": "white",
           "landcolor": "#E5ECF6",
           "showlakes": true,
           "showland": true,
           "subunitcolor": "white"
          },
          "hoverlabel": {
           "align": "left"
          },
          "hovermode": "closest",
          "mapbox": {
           "style": "light"
          },
          "paper_bgcolor": "white",
          "plot_bgcolor": "#E5ECF6",
          "polar": {
           "angularaxis": {
            "gridcolor": "white",
            "linecolor": "white",
            "ticks": ""
           },
           "bgcolor": "#E5ECF6",
           "radialaxis": {
            "gridcolor": "white",
            "linecolor": "white",
            "ticks": ""
           }
          },
          "scene": {
           "xaxis": {
            "backgroundcolor": "#E5ECF6",
            "gridcolor": "white",
            "gridwidth": 2,
            "linecolor": "white",
            "showbackground": true,
            "ticks": "",
            "zerolinecolor": "white"
           },
           "yaxis": {
            "backgroundcolor": "#E5ECF6",
            "gridcolor": "white",
            "gridwidth": 2,
            "linecolor": "white",
            "showbackground": true,
            "ticks": "",
            "zerolinecolor": "white"
           },
           "zaxis": {
            "backgroundcolor": "#E5ECF6",
            "gridcolor": "white",
            "gridwidth": 2,
            "linecolor": "white",
            "showbackground": true,
            "ticks": "",
            "zerolinecolor": "white"
           }
          },
          "shapedefaults": {
           "line": {
            "color": "#2a3f5f"
           }
          },
          "ternary": {
           "aaxis": {
            "gridcolor": "white",
            "linecolor": "white",
            "ticks": ""
           },
           "baxis": {
            "gridcolor": "white",
            "linecolor": "white",
            "ticks": ""
           },
           "bgcolor": "#E5ECF6",
           "caxis": {
            "gridcolor": "white",
            "linecolor": "white",
            "ticks": ""
           }
          },
          "title": {
           "x": 0.05
          },
          "xaxis": {
           "automargin": true,
           "gridcolor": "white",
           "linecolor": "white",
           "ticks": "",
           "title": {
            "standoff": 15
           },
           "zerolinecolor": "white",
           "zerolinewidth": 2
          },
          "yaxis": {
           "automargin": true,
           "gridcolor": "white",
           "linecolor": "white",
           "ticks": "",
           "title": {
            "standoff": 15
           },
           "zerolinecolor": "white",
           "zerolinewidth": 2
          }
         }
        }
       }
      }
     },
     "metadata": {},
     "output_type": "display_data"
    }
   ],
   "source": [
    "fig = px.scatter_mapbox(\n",
    "    df,\n",
    "    lat=\"matched_latitude\",\n",
    "    lon=\"matched_longitude\",\n",
    "    color_discrete_sequence=[\"black\"],\n",
    "    size=\"bubble_size\",\n",
    "    size_max=BUBBLE_SIZE,\n",
    "    mapbox_style=\"open-street-map\",\n",
    "    center=CENTER,\n",
    "    zoom=ZOOM,\n",
    ")\n",
    "\n",
    "fig.update_layout(margin={\"l\": 0, \"r\": 0, \"t\": 0, \"b\": 0})\n",
    "fig.show()"
   ]
  }
 ],
 "metadata": {
  "interpreter": {
   "hash": "916dbcbb3f70747c44a77c7bcd40155683ae19c65e1c03b4aa3499c5328201f1"
  },
  "kernelspec": {
   "display_name": "Python 3.8.10 64-bit",
   "name": "python3"
  },
  "language_info": {
   "codemirror_mode": {
    "name": "ipython",
    "version": 3
   },
   "file_extension": ".py",
   "mimetype": "text/x-python",
   "name": "python",
   "nbconvert_exporter": "python",
   "pygments_lexer": "ipython3",
   "version": "3.8.10"
  },
  "orig_nbformat": 4
 },
 "nbformat": 4,
 "nbformat_minor": 2
}
